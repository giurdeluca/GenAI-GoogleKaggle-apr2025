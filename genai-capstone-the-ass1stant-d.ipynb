{
 "cells": [
  {
   "cell_type": "code",
   "execution_count": 1,
   "id": "89fec9eb",
   "metadata": {
    "_cell_guid": "fb1e10c3-5eed-4598-a0bd-b47a208c2c61",
    "_uuid": "f7514733-c81a-4b5b-8a2a-dcc17c6e98a3",
    "collapsed": false,
    "execution": {
     "iopub.execute_input": "2025-04-16T07:48:16.947515Z",
     "iopub.status.busy": "2025-04-16T07:48:16.947174Z",
     "iopub.status.idle": "2025-04-16T07:48:18.990861Z",
     "shell.execute_reply": "2025-04-16T07:48:18.989928Z"
    },
    "jupyter": {
     "outputs_hidden": false
    },
    "papermill": {
     "duration": 2.056019,
     "end_time": "2025-04-16T07:48:18.992814",
     "exception": false,
     "start_time": "2025-04-16T07:48:16.936795",
     "status": "completed"
    },
    "tags": []
   },
   "outputs": [],
   "source": [
    "# This Python 3 environment comes with many helpful analytics libraries installed\n",
    "# It is defined by the kaggle/python Docker image: https://github.com/kaggle/docker-python\n",
    "# For example, here's several helpful packages to load\n",
    "\n",
    "import numpy as np # linear algebra\n",
    "import pandas as pd # data processing, CSV file I/O (e.g. pd.read_csv)\n",
    "\n",
    "# Input data files are available in the read-only \"../input/\" directory\n",
    "# For example, running this (by clicking run or pressing Shift+Enter) will list all files under the input directory\n",
    "\n",
    "import os\n",
    "for dirname, _, filenames in os.walk('/kaggle/input'):\n",
    "    for filename in filenames:\n",
    "        print(os.path.join(dirname, filename))\n",
    "\n",
    "# You can write up to 20GB to the current directory (/kaggle/working/) that gets preserved as output when you create a version using \"Save & Run All\" \n",
    "# You can also write temporary files to /kaggle/temp/, but they won't be saved outside of the current session"
   ]
  },
  {
   "cell_type": "markdown",
   "id": "eb08f23d",
   "metadata": {
    "_cell_guid": "0f186045-cc6c-46e8-9039-2086b1a3933c",
    "_uuid": "4a41ad9f-c761-4478-92e1-f551d241aa75",
    "collapsed": false,
    "jupyter": {
     "outputs_hidden": false
    },
    "papermill": {
     "duration": 0.009029,
     "end_time": "2025-04-16T07:48:19.010062",
     "exception": false,
     "start_time": "2025-04-16T07:48:19.001033",
     "status": "completed"
    },
    "tags": []
   },
   "source": [
    "# The Ass1stant D: a personalized meal planner for T1D Patients\n",
    "\n",
    "This notebook showcases a GenAI-powered assistant that helps build **personalized meal plans** for people with T1D. It leverages glucose data, medical guidelines, and AI-generated recipe analysis to offer tailored nutrition strategies.\n",
    "\n",
    "⚠️ **Disclaimer:** This notebook demonstrates an AI agent concept for educational purposes related to Type 1 Diabetes management. It is **NOT** a medical device or a substitute for professional medical advice, diagnosis, or treatment. Always seek the advice of your physician or other qualified health provider with any questions you may have regarding a medical condition. Never disregard professional medical advice or delay in seeking it because of something you have read in this notebook."
   ]
  },
  {
   "cell_type": "markdown",
   "id": "e8ef9579",
   "metadata": {
    "_cell_guid": "392fa75c-f8e5-44ed-a542-26c30ba1b122",
    "_uuid": "478144fa-0bb1-405e-bd1c-5cf8b63ac5c6",
    "collapsed": false,
    "jupyter": {
     "outputs_hidden": false
    },
    "papermill": {
     "duration": 0.008001,
     "end_time": "2025-04-16T07:48:19.026406",
     "exception": false,
     "start_time": "2025-04-16T07:48:19.018405",
     "status": "completed"
    },
    "tags": []
   },
   "source": [
    "## Understanding Type 1 Diabetes Management Challenges\n",
    "Type 1 Diabetes (T1D) is an autoimmune condition where the pancreas produces little to no insulin, requiring patients to manually regulate their blood glucose through insulin therapy and dietary management.  \n",
    "This presents several key challenges: \n",
    "1. **Complex Meal Planning**: Every meal must be carefully balanced to avoid blood glucose spikes or dangerous lows\n",
    "2. **Individual Variability**: Each patient has unique insulin sensitivity, dietary preferences, and glucose patterns\n",
    "3. **Continuous Adaptation**: Management strategies must evolve based on changing glucose patterns, activity levels, and physiological changes\n",
    "Traditional static meal plans fail to address these dynamic needs, often leading to suboptimal glucose control. A one-size-fits-all approach is inadequate for T1D management."
   ]
  },
  {
   "cell_type": "markdown",
   "id": "5856d401",
   "metadata": {
    "_cell_guid": "edddabd6-d62f-4236-966a-6662e06517c2",
    "_uuid": "3322ef46-c205-492f-b0a8-8bca82bb827e",
    "collapsed": false,
    "jupyter": {
     "outputs_hidden": false
    },
    "papermill": {
     "duration": 0.008929,
     "end_time": "2025-04-16T07:48:19.044157",
     "exception": false,
     "start_time": "2025-04-16T07:48:19.035228",
     "status": "completed"
    },
    "tags": []
   },
   "source": [
    "## How GenAI Creates a Personalized Solution\n",
    "This notebook demonstrates an AI agent that leverages large language models to create highly personalized meal plans for T1D patients by:\n",
    "1. **Analyzing Individual Data**: Processing glucose patterns and patient profiles to identify specific needs\n",
    "2. **Retrieving Expert Knowledge**: Using vector embeddings to access relevant medical guidelines based on patient characteristics\n",
    "3. **Generating Personalized Recommendations**: Creating tailored meal plans that address the patient's specific glucose patterns\n",
    "4. **Explaining Recommendations**: Providing clear rationales connecting meal choices to glucose management strategies"
   ]
  },
  {
   "cell_type": "markdown",
   "id": "bfe747cc",
   "metadata": {
    "_cell_guid": "4918fe3c-6749-412c-bef5-5bf637ac9011",
    "_uuid": "5204ace0-e157-4544-a13c-e9ed08a10824",
    "collapsed": false,
    "jupyter": {
     "outputs_hidden": false
    },
    "papermill": {
     "duration": 0.007419,
     "end_time": "2025-04-16T07:48:19.060333",
     "exception": false,
     "start_time": "2025-04-16T07:48:19.052914",
     "status": "completed"
    },
    "tags": []
   },
   "source": [
    "## Code Structure\n",
    "- **Data Analysis Module**: Processes glucose readings to identify patterns (dawn phenomenon, post-meal spikes, etc.)\n",
    "- **Knowledge Retrieval System**: Uses vector DB and embeddings to access relevant T1D guidelines\n",
    "- **Recipe Generation**: Creates personalized meal plans aligned with medical guidelines\n",
    "- **Explanation Engine**: Provides clear connections between meal recommendations and glucose management"
   ]
  },
  {
   "cell_type": "markdown",
   "id": "7aca2c9e",
   "metadata": {
    "_cell_guid": "1604c6ae-0856-4177-b4fc-d29fb38050b5",
    "_uuid": "e4fe429b-ef93-48cc-b386-30267dea10c3",
    "collapsed": false,
    "jupyter": {
     "outputs_hidden": false
    },
    "papermill": {
     "duration": 0.007359,
     "end_time": "2025-04-16T07:48:19.075330",
     "exception": false,
     "start_time": "2025-04-16T07:48:19.067971",
     "status": "completed"
    },
    "tags": []
   },
   "source": [
    "## Setup and dependencies"
   ]
  },
  {
   "cell_type": "code",
   "execution_count": 2,
   "id": "82e8ffb3",
   "metadata": {
    "_cell_guid": "ecfd5704-a3f3-4a5d-92ad-b91c222c178b",
    "_uuid": "c8183f29-9548-4d8e-ae53-b350755cecd0",
    "collapsed": false,
    "execution": {
     "iopub.execute_input": "2025-04-16T07:48:19.093194Z",
     "iopub.status.busy": "2025-04-16T07:48:19.092774Z",
     "iopub.status.idle": "2025-04-16T07:48:27.653761Z",
     "shell.execute_reply": "2025-04-16T07:48:27.652695Z"
    },
    "jupyter": {
     "outputs_hidden": false
    },
    "papermill": {
     "duration": 8.571795,
     "end_time": "2025-04-16T07:48:27.655693",
     "exception": false,
     "start_time": "2025-04-16T07:48:19.083898",
     "status": "completed"
    },
    "tags": []
   },
   "outputs": [
    {
     "name": "stdout",
     "output_type": "stream",
     "text": [
      "\u001b[2K   \u001b[90m━━━━━━━━━━━━━━━━━━━━━━━━━━━━━━━━━━━━━━━━\u001b[0m \u001b[32m144.7/144.7 kB\u001b[0m \u001b[31m5.9 MB/s\u001b[0m eta \u001b[36m0:00:00\u001b[0m\r\n",
      "\u001b[2K   \u001b[90m━━━━━━━━━━━━━━━━━━━━━━━━━━━━━━━━━━━━━━━━\u001b[0m \u001b[32m100.9/100.9 kB\u001b[0m \u001b[31m3.7 MB/s\u001b[0m eta \u001b[36m0:00:00\u001b[0m\r\n",
      "\u001b[?25h"
     ]
    }
   ],
   "source": [
    "!pip install -U -q \"google-genai==1.7.0\"\n",
    "\n",
    "from google import genai\n",
    "from google.genai import types\n",
    "\n",
    "from kaggle_secrets import UserSecretsClient\n",
    "GOOGLE_API_KEY = UserSecretsClient().get_secret(\"GOOGLE_API_KEY\")"
   ]
  },
  {
   "cell_type": "code",
   "execution_count": 3,
   "id": "4e747398",
   "metadata": {
    "_cell_guid": "938ebd51-48f8-4d34-8a05-626531ba0526",
    "_uuid": "ea0f04d2-a9cc-4ea6-a7e6-a1199c52a9f9",
    "collapsed": false,
    "execution": {
     "iopub.execute_input": "2025-04-16T07:48:27.675033Z",
     "iopub.status.busy": "2025-04-16T07:48:27.673651Z",
     "iopub.status.idle": "2025-04-16T07:48:27.681267Z",
     "shell.execute_reply": "2025-04-16T07:48:27.680355Z"
    },
    "jupyter": {
     "outputs_hidden": false
    },
    "papermill": {
     "duration": 0.018601,
     "end_time": "2025-04-16T07:48:27.682810",
     "exception": false,
     "start_time": "2025-04-16T07:48:27.664209",
     "status": "completed"
    },
    "tags": []
   },
   "outputs": [
    {
     "data": {
      "text/plain": [
       "'1.7.0'"
      ]
     },
     "execution_count": 3,
     "metadata": {},
     "output_type": "execute_result"
    }
   ],
   "source": [
    "genai.__version__"
   ]
  },
  {
   "cell_type": "code",
   "execution_count": 4,
   "id": "c200160a",
   "metadata": {
    "_cell_guid": "dad60d3a-5ce2-4145-ae86-87308cd5ae17",
    "_uuid": "4250ab45-90fe-420e-a41b-39fa317b456a",
    "collapsed": false,
    "execution": {
     "iopub.execute_input": "2025-04-16T07:48:27.699793Z",
     "iopub.status.busy": "2025-04-16T07:48:27.699408Z",
     "iopub.status.idle": "2025-04-16T07:48:30.084876Z",
     "shell.execute_reply": "2025-04-16T07:48:30.083252Z"
    },
    "jupyter": {
     "outputs_hidden": false
    },
    "papermill": {
     "duration": 2.396872,
     "end_time": "2025-04-16T07:48:30.087555",
     "exception": false,
     "start_time": "2025-04-16T07:48:27.690683",
     "status": "completed"
    },
    "tags": []
   },
   "outputs": [],
   "source": [
    "!pip uninstall -qqy jupyterlab  # Remove unused conflicting packages"
   ]
  },
  {
   "cell_type": "code",
   "execution_count": 5,
   "id": "36469261",
   "metadata": {
    "_cell_guid": "6a7547f0-3cc0-45fb-8af0-be85fa248eac",
    "_uuid": "82d1e25d-22e9-4970-a6e6-ec3551888a76",
    "collapsed": false,
    "execution": {
     "iopub.execute_input": "2025-04-16T07:48:30.106790Z",
     "iopub.status.busy": "2025-04-16T07:48:30.106378Z",
     "iopub.status.idle": "2025-04-16T07:49:11.940921Z",
     "shell.execute_reply": "2025-04-16T07:49:11.939548Z"
    },
    "jupyter": {
     "outputs_hidden": false
    },
    "papermill": {
     "duration": 41.846477,
     "end_time": "2025-04-16T07:49:11.942745",
     "exception": false,
     "start_time": "2025-04-16T07:48:30.096268",
     "status": "completed"
    },
    "tags": []
   },
   "outputs": [
    {
     "name": "stdout",
     "output_type": "stream",
     "text": [
      "\u001b[2K     \u001b[90m━━━━━━━━━━━━━━━━━━━━━━━━━━━━━━━━━━━━━━━━\u001b[0m \u001b[32m67.3/67.3 kB\u001b[0m \u001b[31m2.6 MB/s\u001b[0m eta \u001b[36m0:00:00\u001b[0m\r\n",
      "\u001b[?25h  Installing build dependencies ... \u001b[?25l\u001b[?25hdone\r\n",
      "  Getting requirements to build wheel ... \u001b[?25l\u001b[?25hdone\r\n",
      "  Preparing metadata (pyproject.toml) ... \u001b[?25l\u001b[?25hdone\r\n",
      "\u001b[2K   \u001b[90m━━━━━━━━━━━━━━━━━━━━━━━━━━━━━━━━━━━━━━━━\u001b[0m \u001b[32m18.3/18.3 MB\u001b[0m \u001b[31m64.1 MB/s\u001b[0m eta \u001b[36m0:00:00\u001b[0m\r\n",
      "\u001b[2K   \u001b[90m━━━━━━━━━━━━━━━━━━━━━━━━━━━━━━━━━━━━━━━━\u001b[0m \u001b[32m2.4/2.4 MB\u001b[0m \u001b[31m49.3 MB/s\u001b[0m eta \u001b[36m0:00:00\u001b[0m\r\n",
      "\u001b[2K   \u001b[90m━━━━━━━━━━━━━━━━━━━━━━━━━━━━━━━━━━━━━━━━\u001b[0m \u001b[32m94.9/94.9 kB\u001b[0m \u001b[31m4.2 MB/s\u001b[0m eta \u001b[36m0:00:00\u001b[0m\r\n",
      "\u001b[2K   \u001b[90m━━━━━━━━━━━━━━━━━━━━━━━━━━━━━━━━━━━━━━━━\u001b[0m \u001b[32m284.2/284.2 kB\u001b[0m \u001b[31m13.2 MB/s\u001b[0m eta \u001b[36m0:00:00\u001b[0m\r\n",
      "\u001b[2K   \u001b[90m━━━━━━━━━━━━━━━━━━━━━━━━━━━━━━━━━━━━━━━━\u001b[0m \u001b[32m2.0/2.0 MB\u001b[0m \u001b[31m55.3 MB/s\u001b[0m eta \u001b[36m0:00:00\u001b[0m\r\n",
      "\u001b[2K   \u001b[90m━━━━━━━━━━━━━━━━━━━━━━━━━━━━━━━━━━━━━━━━\u001b[0m \u001b[32m101.6/101.6 kB\u001b[0m \u001b[31m4.3 MB/s\u001b[0m eta \u001b[36m0:00:00\u001b[0m\r\n",
      "\u001b[2K   \u001b[90m━━━━━━━━━━━━━━━━━━━━━━━━━━━━━━━━━━━━━━━━\u001b[0m \u001b[32m16.0/16.0 MB\u001b[0m \u001b[31m67.1 MB/s\u001b[0m eta \u001b[36m0:00:00\u001b[0m\r\n",
      "\u001b[2K   \u001b[90m━━━━━━━━━━━━━━━━━━━━━━━━━━━━━━━━━━━━━━━━\u001b[0m \u001b[32m55.9/55.9 kB\u001b[0m \u001b[31m2.5 MB/s\u001b[0m eta \u001b[36m0:00:00\u001b[0m\r\n",
      "\u001b[2K   \u001b[90m━━━━━━━━━━━━━━━━━━━━━━━━━━━━━━━━━━━━━━━━\u001b[0m \u001b[32m188.4/188.4 kB\u001b[0m \u001b[31m8.4 MB/s\u001b[0m eta \u001b[36m0:00:00\u001b[0m\r\n",
      "\u001b[2K   \u001b[90m━━━━━━━━━━━━━━━━━━━━━━━━━━━━━━━━━━━━━━━━\u001b[0m \u001b[32m65.3/65.3 kB\u001b[0m \u001b[31m3.7 MB/s\u001b[0m eta \u001b[36m0:00:00\u001b[0m\r\n",
      "\u001b[2K   \u001b[90m━━━━━━━━━━━━━━━━━━━━━━━━━━━━━━━━━━━━━━━━\u001b[0m \u001b[32m119.0/119.0 kB\u001b[0m \u001b[31m6.7 MB/s\u001b[0m eta \u001b[36m0:00:00\u001b[0m\r\n",
      "\u001b[2K   \u001b[90m━━━━━━━━━━━━━━━━━━━━━━━━━━━━━━━━━━━━━━━━\u001b[0m \u001b[32m89.1/89.1 kB\u001b[0m \u001b[31m4.1 MB/s\u001b[0m eta \u001b[36m0:00:00\u001b[0m\r\n",
      "\u001b[2K   \u001b[90m━━━━━━━━━━━━━━━━━━━━━━━━━━━━━━━━━━━━━━━━\u001b[0m \u001b[32m62.4/62.4 kB\u001b[0m \u001b[31m3.1 MB/s\u001b[0m eta \u001b[36m0:00:00\u001b[0m\r\n",
      "\u001b[2K   \u001b[90m━━━━━━━━━━━━━━━━━━━━━━━━━━━━━━━━━━━━━━━━\u001b[0m \u001b[32m459.8/459.8 kB\u001b[0m \u001b[31m17.1 MB/s\u001b[0m eta \u001b[36m0:00:00\u001b[0m\r\n",
      "\u001b[2K   \u001b[90m━━━━━━━━━━━━━━━━━━━━━━━━━━━━━━━━━━━━━━━━\u001b[0m \u001b[32m319.7/319.7 kB\u001b[0m \u001b[31m11.9 MB/s\u001b[0m eta \u001b[36m0:00:00\u001b[0m\r\n",
      "\u001b[2K   \u001b[90m━━━━━━━━━━━━━━━━━━━━━━━━━━━━━━━━━━━━━━━━\u001b[0m \u001b[32m71.5/71.5 kB\u001b[0m \u001b[31m3.4 MB/s\u001b[0m eta \u001b[36m0:00:00\u001b[0m\r\n",
      "\u001b[2K   \u001b[90m━━━━━━━━━━━━━━━━━━━━━━━━━━━━━━━━━━━━━━━━\u001b[0m \u001b[32m4.0/4.0 MB\u001b[0m \u001b[31m70.7 MB/s\u001b[0m eta \u001b[36m0:00:00\u001b[0m\r\n",
      "\u001b[2K   \u001b[90m━━━━━━━━━━━━━━━━━━━━━━━━━━━━━━━━━━━━━━━━\u001b[0m \u001b[32m454.8/454.8 kB\u001b[0m \u001b[31m21.4 MB/s\u001b[0m eta \u001b[36m0:00:00\u001b[0m\r\n",
      "\u001b[2K   \u001b[90m━━━━━━━━━━━━━━━━━━━━━━━━━━━━━━━━━━━━━━━━\u001b[0m \u001b[32m46.0/46.0 kB\u001b[0m \u001b[31m2.4 MB/s\u001b[0m eta \u001b[36m0:00:00\u001b[0m\r\n",
      "\u001b[2K   \u001b[90m━━━━━━━━━━━━━━━━━━━━━━━━━━━━━━━━━━━━━━━━\u001b[0m \u001b[32m86.8/86.8 kB\u001b[0m \u001b[31m4.8 MB/s\u001b[0m eta \u001b[36m0:00:00\u001b[0m\r\n",
      "\u001b[?25h  Building wheel for pypika (pyproject.toml) ... \u001b[?25l\u001b[?25hdone\r\n",
      "\u001b[31mERROR: pip's dependency resolver does not currently take into account all the packages that are installed. This behaviour is the source of the following dependency conflicts.\r\n",
      "google-cloud-translate 3.12.1 requires protobuf!=3.20.0,!=3.20.1,!=4.21.0,!=4.21.1,!=4.21.2,!=4.21.3,!=4.21.4,!=4.21.5,<5.0.0dev,>=3.19.5, but you have protobuf 5.29.4 which is incompatible.\r\n",
      "google-api-core 1.34.1 requires protobuf!=3.20.0,!=3.20.1,!=4.21.0,!=4.21.1,!=4.21.2,!=4.21.3,!=4.21.4,!=4.21.5,<4.0.0dev,>=3.19.5, but you have protobuf 5.29.4 which is incompatible.\r\n",
      "google-spark-connect 0.5.2 requires google-api-core>=2.19.1, but you have google-api-core 1.34.1 which is incompatible.\r\n",
      "pandas-gbq 0.26.1 requires google-api-core<3.0.0dev,>=2.10.2, but you have google-api-core 1.34.1 which is incompatible.\r\n",
      "bigframes 1.36.0 requires rich<14,>=12.4.4, but you have rich 14.0.0 which is incompatible.\r\n",
      "google-cloud-bigtable 2.28.1 requires google-api-core[grpc]<3.0.0dev,>=2.16.0, but you have google-api-core 1.34.1 which is incompatible.\u001b[0m\u001b[31m\r\n",
      "\u001b[0m"
     ]
    }
   ],
   "source": [
    "!pip install -q chromadb matplotlib seaborn"
   ]
  },
  {
   "cell_type": "code",
   "execution_count": 6,
   "id": "57bfae05",
   "metadata": {
    "_cell_guid": "b541454d-4323-43f7-b19b-2ea1ddde913f",
    "_uuid": "3694b7f1-e7d3-4084-a29f-ccc7b402316c",
    "collapsed": false,
    "execution": {
     "iopub.execute_input": "2025-04-16T07:49:11.963169Z",
     "iopub.status.busy": "2025-04-16T07:49:11.962832Z",
     "iopub.status.idle": "2025-04-16T07:49:15.163219Z",
     "shell.execute_reply": "2025-04-16T07:49:15.162202Z"
    },
    "jupyter": {
     "outputs_hidden": false
    },
    "papermill": {
     "duration": 3.21258,
     "end_time": "2025-04-16T07:49:15.164935",
     "exception": false,
     "start_time": "2025-04-16T07:49:11.952355",
     "status": "completed"
    },
    "tags": []
   },
   "outputs": [],
   "source": [
    "import pandas as pd\n",
    "import numpy as np\n",
    "from typing import List, Dict, Any, Optional, Tuple\n",
    "import json\n",
    "import logging\n",
    "from sklearn.metrics.pairwise import cosine_similarity\n",
    "from datetime import datetime, timedelta\n",
    "from IPython.display import display, HTML\n",
    "import matplotlib.pyplot as plt\n",
    "import seaborn as sns\n",
    "import textwrap\n",
    "import chromadb\n",
    "from chromadb import Documents, EmbeddingFunction, Embeddings"
   ]
  },
  {
   "cell_type": "code",
   "execution_count": 7,
   "id": "e6be9c95",
   "metadata": {
    "_cell_guid": "3ab947e3-cd6b-420e-a593-d5802f301352",
    "_uuid": "d31744c3-644e-442f-ae67-72f56794ed96",
    "collapsed": false,
    "execution": {
     "iopub.execute_input": "2025-04-16T07:49:15.186455Z",
     "iopub.status.busy": "2025-04-16T07:49:15.185866Z",
     "iopub.status.idle": "2025-04-16T07:49:15.591321Z",
     "shell.execute_reply": "2025-04-16T07:49:15.590321Z"
    },
    "jupyter": {
     "outputs_hidden": false
    },
    "papermill": {
     "duration": 0.418209,
     "end_time": "2025-04-16T07:49:15.592964",
     "exception": false,
     "start_time": "2025-04-16T07:49:15.174755",
     "status": "completed"
    },
    "tags": []
   },
   "outputs": [],
   "source": [
    "client = genai.Client(api_key=GOOGLE_API_KEY)"
   ]
  },
  {
   "cell_type": "code",
   "execution_count": 8,
   "id": "807b928d",
   "metadata": {
    "_cell_guid": "2a5d9bd4-ea80-450a-8b97-860318cbf3ac",
    "_uuid": "c197f4c9-f5f3-4b78-9ca4-d61eca726e0e",
    "collapsed": false,
    "execution": {
     "iopub.execute_input": "2025-04-16T07:49:15.613837Z",
     "iopub.status.busy": "2025-04-16T07:49:15.613464Z",
     "iopub.status.idle": "2025-04-16T07:49:15.618188Z",
     "shell.execute_reply": "2025-04-16T07:49:15.617412Z"
    },
    "jupyter": {
     "outputs_hidden": false
    },
    "papermill": {
     "duration": 0.01694,
     "end_time": "2025-04-16T07:49:15.619487",
     "exception": false,
     "start_time": "2025-04-16T07:49:15.602547",
     "status": "completed"
    },
    "tags": []
   },
   "outputs": [],
   "source": [
    "# Setup logging\n",
    "logging.basicConfig(level=logging.INFO, format='%(asctime)s - %(levelname)s - %(message)s')\n",
    "logger = logging.getLogger(__name__)"
   ]
  },
  {
   "cell_type": "markdown",
   "id": "8bc44852",
   "metadata": {
    "_cell_guid": "d7ba9073-a921-49da-bf6a-a08e6a5fa84f",
    "_uuid": "54514e26-af3b-47bf-904c-7cdcf05007fc",
    "collapsed": false,
    "jupyter": {
     "outputs_hidden": false
    },
    "papermill": {
     "duration": 0.009107,
     "end_time": "2025-04-16T07:49:15.638173",
     "exception": false,
     "start_time": "2025-04-16T07:49:15.629066",
     "status": "completed"
    },
    "tags": []
   },
   "source": [
    "## Vector database (T1D guidelines)\n",
    "This section creates a vector database of T1D management guidelines using ChromaDB. This approach allows us to:\n",
    "\n",
    "1. **Store Medical Knowledge**: Guidelines for different age groups, glucose patterns, and weight considerations\n",
    "2. **Enable Semantic Search**: Find the most relevant guidelines based on patient characteristics  \n",
    "3. **Support Contextual Retrieval**: Provide the LLM with only the most pertinent medical information\n",
    " \n",
    "The embedding function uses Gemini's embedding model to convert text guidelines into vector representations, allowing for semantic similarity search. This form of knowledge retrieval ensures the agent provides medically appropriate advice based on established guidelines rather than hallucinating recommendations.\n",
    "\n",
    "**IMPORTANT: We are using sample guidelines here! They do not contain verified medical information!!!**"
   ]
  },
  {
   "cell_type": "code",
   "execution_count": 9,
   "id": "c35f09e5",
   "metadata": {
    "_cell_guid": "cc21e1c1-c003-4166-87c9-b968651ad0ac",
    "_uuid": "19341e26-3697-4cce-8a15-732825b81ac8",
    "collapsed": false,
    "execution": {
     "iopub.execute_input": "2025-04-16T07:49:15.660155Z",
     "iopub.status.busy": "2025-04-16T07:49:15.659446Z",
     "iopub.status.idle": "2025-04-16T07:49:15.666298Z",
     "shell.execute_reply": "2025-04-16T07:49:15.665273Z"
    },
    "jupyter": {
     "outputs_hidden": false
    },
    "papermill": {
     "duration": 0.0194,
     "end_time": "2025-04-16T07:49:15.667871",
     "exception": false,
     "start_time": "2025-04-16T07:49:15.648471",
     "status": "completed"
    },
    "tags": []
   },
   "outputs": [],
   "source": [
    "documents = [\n",
    "    \"\"\"\n",
    "    Pediatric T1D Management (Ages 0-12)\n",
    "    Blood glucose targets: 90-180 mg/dL before meals, 100-180 mg/dL at bedtime\n",
    "    Insulin requirements: 0.5-0.8 units/kg/day during honeymoon phase; 0.7-1.0 units/kg/day post-honeymoon\n",
    "    Hypoglycemia management: Treat with 0.3g/kg of fast-acting carbohydrates for BG < 70 mg/dL\n",
    "    Recommended monitoring: Minimum 6-10 checks daily, CGM preferred\n",
    "    Physical activity: Additional carbohydrate intake of 10-15g per 30 minutes of moderate activity\n",
    "    \"\"\",\n",
    "    \n",
    "    \"\"\"\n",
    "    Adolescent T1D Management (Ages 13-18)\n",
    "    Blood glucose targets: 90-130 mg/dL before meals, 90-150 mg/dL at bedtime\n",
    "    Insulin requirements: 0.8-1.2 units/kg/day, may require higher doses during puberty\n",
    "    Recommended monitoring: Minimum 4-6 checks daily, CGM strongly recommended\n",
    "    Dawn phenomenon management: Consider increased basal rates by 10-20% between 4-8 AM\n",
    "    Weight-based considerations: BMI monitoring every 3 months, insulin sensitivity factor typically 1800/total daily dose\n",
    "    \"\"\",\n",
    "    \n",
    "    \"\"\"\n",
    "    Adult T1D Management (Ages 19-64)\n",
    "    Blood glucose targets: 80-130 mg/dL before meals, 90-150 mg/dL at bedtime, A1C < 7.0%\n",
    "    Insulin requirements: 0.5-1.0 units/kg/day, adjust based on activity level and insulin sensitivity\n",
    "    Dawn phenomenon: Consider increased basal rates by 10-30% between 3-7 AM or switching to pump therapy\n",
    "    Weight considerations: For every 10% over ideal body weight, reduce insulin sensitivity factor by 10%\n",
    "    Gender considerations: Women may require insulin adjustments during menstrual cycle (typically 20-30% increase during luteal phase)\n",
    "    \"\"\",\n",
    "    \n",
    "    \"\"\"\n",
    "    Elderly T1D Management (Ages 65+)\n",
    "    Blood glucose targets: 100-180 mg/dL before meals, 100-200 mg/dL at bedtime, A1C < 8.0%\n",
    "    Insulin requirements: Typically lower, 0.4-0.8 units/kg/day due to reduced renal function\n",
    "    Hypoglycemia risk: Higher risk, consider less aggressive targets and more frequent monitoring\n",
    "    Weight considerations: Sarcopenia may increase insulin sensitivity; lower doses recommended for BMI < 22\n",
    "    Comorbidity considerations: Adjust management based on cardiovascular, renal, and cognitive status\n",
    "    \"\"\",\n",
    "    \n",
    "    \"\"\"\n",
    "    Managing Dawn Phenomenon in T1D\n",
    "    Definition: Morning hyperglycemia due to counterregulatory hormones (growth hormone, cortisol) between 4-8 AM\n",
    "    Identification: Consistently elevated morning glucose readings despite normal bedtime readings\n",
    "    Management strategies:\n",
    "    - Basal insulin adjustment: Increase overnight basal by 10-20% or adjust pump basal rates between 3-7 AM\n",
    "    - Timing adjustment: Move long-acting insulin from dinner to bedtime\n",
    "    - Technology solutions: Consider closed-loop insulin pump systems with predictive algorithms\n",
    "    - Dietary considerations: Avoid high-fat or high-protein meals before bed\n",
    "    \"\"\",\n",
    "    \n",
    "    \"\"\"\n",
    "    Weight-Based T1D Management Guidelines\n",
    "    Underweight (BMI < 18.5): Insulin sensitivity typically higher, ISF often 1 unit per 80-100 mg/dL\n",
    "    Normal weight (BMI 18.5-24.9): Standard insulin calculation factors apply\n",
    "    Overweight (BMI 25-29.9): Decrease ISF by 10-20%, insulin requirements may be higher\n",
    "    Obese (BMI ≥ 30): Decrease ISF by 20-40%, significant insulin resistance may be present\n",
    "    Weight-based starting TDD calculation: 0.55 × weight(kg) for adults, 0.75 × weight(kg) for adolescents\n",
    "    For insulin pump users: Approximate basal needs are 40-50% of TDD\n",
    "    \"\"\"\n",
    "]"
   ]
  },
  {
   "cell_type": "markdown",
   "id": "440c3a1a",
   "metadata": {
    "_cell_guid": "f6b275a1-f71e-4948-959e-8327113a8d25",
    "_uuid": "da7ef21f-ccc8-45eb-8d17-a361d01a6c17",
    "collapsed": false,
    "jupyter": {
     "outputs_hidden": false
    },
    "papermill": {
     "duration": 0.075255,
     "end_time": "2025-04-16T07:49:15.752523",
     "exception": false,
     "start_time": "2025-04-16T07:49:15.677268",
     "status": "completed"
    },
    "tags": []
   },
   "source": [
    "## Embedding Function for Medical Knowledge\n",
    "\n",
    "The embedding function below uses Gemini's embedding model to convert our T1D guidelines into vector representations. This is crucial because:\n",
    " \n",
    "1. It transforms medical text into numerical vectors that capture semantic meaning\n",
    "2. It enables similarity-based retrieval to find the most relevant guidelines\n",
    "3. It allows us to match patient characteristics to appropriate medical guidelines \n",
    "\n",
    "The model is specifically configured for document retrieval tasks to optimize for finding relevant medical information."
   ]
  },
  {
   "cell_type": "code",
   "execution_count": 10,
   "id": "782717f8",
   "metadata": {
    "_cell_guid": "0fc844a0-948a-4a74-a2ef-1c7927f53a63",
    "_uuid": "b9efb78a-340b-4594-afc8-176553313761",
    "collapsed": false,
    "execution": {
     "iopub.execute_input": "2025-04-16T07:49:15.772796Z",
     "iopub.status.busy": "2025-04-16T07:49:15.772443Z",
     "iopub.status.idle": "2025-04-16T07:49:15.777606Z",
     "shell.execute_reply": "2025-04-16T07:49:15.776804Z"
    },
    "jupyter": {
     "outputs_hidden": false
    },
    "papermill": {
     "duration": 0.016973,
     "end_time": "2025-04-16T07:49:15.779058",
     "exception": false,
     "start_time": "2025-04-16T07:49:15.762085",
     "status": "completed"
    },
    "tags": []
   },
   "outputs": [],
   "source": [
    "class GeminiEmbeddingFunction(EmbeddingFunction):\n",
    "  def __call__(self, input: Documents) -> Embeddings:\n",
    "    EMBEDDING_MODEL_ID = \"models/embedding-001\"  # @param [\"models/embedding-001\", \"models/text-embedding-004\", \"models/gemini-embedding-exp-03-07\", \"models/gemini-embedding-exp\"] {\"allow-input\": true, \"isTemplate\": true}\n",
    "    title = \"Custom query\"\n",
    "    response = client.models.embed_content(\n",
    "        model=EMBEDDING_MODEL_ID,\n",
    "        contents=input,\n",
    "        config=types.EmbedContentConfig(\n",
    "          task_type=\"retrieval_document\",\n",
    "          title=title\n",
    "        )\n",
    "    )\n",
    "\n",
    "    return response.embeddings[0].values"
   ]
  },
  {
   "cell_type": "markdown",
   "id": "eb093c39",
   "metadata": {
    "_cell_guid": "77432207-3159-4260-85da-06be45498650",
    "_uuid": "daeb952e-af48-4889-b151-778a918dc9c9",
    "collapsed": false,
    "jupyter": {
     "outputs_hidden": false
    },
    "papermill": {
     "duration": 0.009731,
     "end_time": "2025-04-16T07:49:15.800809",
     "exception": false,
     "start_time": "2025-04-16T07:49:15.791078",
     "status": "completed"
    },
    "tags": []
   },
   "source": [
    "## Building the T1D Knowledge Database\n",
    "\n",
    "The functions below create and query our vector database of T1D guidelines. This approach enables:\n",
    "\n",
    "1. **Context-aware retrieval**: Finding guidelines that match the patient's specific situation\n",
    "2. **Relevance ranking**: Prioritizing the most applicable medical knowledge\n",
    "3. **Prompt engineering**: Creating medically informed prompts for the LLM\n",
    "\n",
    "This retrieval-augmented generation (RAG) approach ensures our meal recommendations are grounded in established medical guidelines."
   ]
  },
  {
   "cell_type": "code",
   "execution_count": 11,
   "id": "423cb902",
   "metadata": {
    "_cell_guid": "c91a6056-4630-4fda-9201-674857c4339a",
    "_uuid": "ce7415cf-b2bc-4251-9e05-f429f29030bd",
    "collapsed": false,
    "execution": {
     "iopub.execute_input": "2025-04-16T07:49:15.821962Z",
     "iopub.status.busy": "2025-04-16T07:49:15.821592Z",
     "iopub.status.idle": "2025-04-16T07:49:15.830019Z",
     "shell.execute_reply": "2025-04-16T07:49:15.829159Z"
    },
    "jupyter": {
     "outputs_hidden": false
    },
    "papermill": {
     "duration": 0.020864,
     "end_time": "2025-04-16T07:49:15.831441",
     "exception": false,
     "start_time": "2025-04-16T07:49:15.810577",
     "status": "completed"
    },
    "tags": []
   },
   "outputs": [],
   "source": [
    "# Create ChromaDB collection\n",
    "def create_t1d_guidelines_db(documents, name=\"t1d_guidelines_db\"):\n",
    "    \"\"\"\n",
    "    Create a vector database of T1D guidelines for similarity search\n",
    "    \n",
    "    Args:\n",
    "        documents: List of T1D guideline texts\n",
    "        name: Name for the ChromaDB collection\n",
    "        \n",
    "    Returns:\n",
    "        ChromaDB collection with embedded guidelines\n",
    "    \"\"\"\n",
    "    chroma_client = chromadb.Client()\n",
    "    existing_collections = [c.name for c in chroma_client.list_collections()]\n",
    "    if name in existing_collections:\n",
    "        chroma_client.delete_collection(name=name)\n",
    "    else:\n",
    "        db = chroma_client.create_collection(\n",
    "            name=name,\n",
    "            embedding_function=GeminiEmbeddingFunction()\n",
    "        )\n",
    "    \n",
    "    for i, doc in enumerate(documents):\n",
    "        db.add(\n",
    "            documents=doc,\n",
    "            ids=f\"doc_{i}\",\n",
    "        )\n",
    "    return db\n",
    "\n",
    "# Retrieve relevant passages based on patient data\n",
    "def get_relevant_passages(patient_data, db, n_results=2):\n",
    "    \"\"\"\n",
    "    Find the most relevant T1D guidelines for a specific patient\n",
    "    \n",
    "    Args:\n",
    "        patient_data: Dictionary with patient information\n",
    "        db: ChromaDB collection with T1D guidelines\n",
    "        n_results: Number of relevant passages to retrieve\n",
    "        \n",
    "    Returns:\n",
    "        List of relevant guideline passages\n",
    "    \"\"\"\n",
    "    # Create a composite query string from patient data\n",
    "    age = patient_data['age']\n",
    "    age_group = \"\"\n",
    "    \n",
    "    if age < 13:\n",
    "        age_group = \"pediatric child\"\n",
    "    elif 13 <= age <= 18:\n",
    "        age_group = \"adolescent teen\"\n",
    "    elif 19 <= age <= 64:\n",
    "        age_group = \"adult\"\n",
    "    else:\n",
    "        age_group = \"elderly senior\"\n",
    "    \n",
    "    query = f\"{age_group} {patient_data['sex']} T1D patient weight {patient_data['weight']}kg with {patient_data['glucose_pattern']}\"\n",
    "    \n",
    "    # Retrieve the most relevant passages\n",
    "    results = db.query(query_texts=[query], n_results=n_results)\n",
    "    return results['documents'][0]"
   ]
  },
  {
   "cell_type": "markdown",
   "id": "830abdb8",
   "metadata": {
    "_cell_guid": "417eb220-1e02-4101-a185-c878670f4e0e",
    "_uuid": "7b70a9e9-c884-4b70-9ae7-9cd2cc785f8f",
    "collapsed": false,
    "jupyter": {
     "outputs_hidden": false
    },
    "papermill": {
     "duration": 0.009066,
     "end_time": "2025-04-16T07:49:15.850328",
     "exception": false,
     "start_time": "2025-04-16T07:49:15.841262",
     "status": "completed"
    },
    "tags": []
   },
   "source": [
    "## Prompt Engineering for Medical Guidance\n",
    "\n",
    "This section demonstrates how to craft effective prompts that combine:\n",
    "1. **Patient-specific data**: Demographics, glucose patterns, and preferences\n",
    "2. **Relevant medical guidelines**: Retrieved from our vector database\n",
    "3. **Clear instructions**: To ensure medically appropriate responses\n",
    "\n",
    "The prompts follow a consistent structure:\n",
    "- Context setting (role of the AI)\n",
    "- Inclusion of retrieved medical knowledge\n",
    "- Patient-specific data points\n",
    "- Clear question formulation\n",
    "- Guardrails to prevent hallucination\n",
    "\n",
    "This structured approach ensures the model generates responses that adhere to medical best practices while being tailored to the individual patient."
   ]
  },
  {
   "cell_type": "code",
   "execution_count": 12,
   "id": "2784a353",
   "metadata": {
    "_cell_guid": "bd60b058-eee2-4053-874b-7840636bd026",
    "_uuid": "aaa447b9-f1d7-4c20-b615-72abf121dc89",
    "collapsed": false,
    "execution": {
     "iopub.execute_input": "2025-04-16T07:49:15.870276Z",
     "iopub.status.busy": "2025-04-16T07:49:15.869948Z",
     "iopub.status.idle": "2025-04-16T07:49:15.874445Z",
     "shell.execute_reply": "2025-04-16T07:49:15.873463Z"
    },
    "jupyter": {
     "outputs_hidden": false
    },
    "papermill": {
     "duration": 0.016715,
     "end_time": "2025-04-16T07:49:15.876197",
     "exception": false,
     "start_time": "2025-04-16T07:49:15.859482",
     "status": "completed"
    },
    "tags": []
   },
   "outputs": [],
   "source": [
    "GENERATION_MODEL_NAME = \"gemini-2.0-flash\""
   ]
  },
  {
   "cell_type": "code",
   "execution_count": 13,
   "id": "2d1fa72f",
   "metadata": {
    "_cell_guid": "72db387c-f2d7-4341-8aae-1279a5b654f4",
    "_uuid": "3a12e593-9493-4985-acb6-9f70aa7c27dc",
    "collapsed": false,
    "execution": {
     "iopub.execute_input": "2025-04-16T07:49:15.898056Z",
     "iopub.status.busy": "2025-04-16T07:49:15.897724Z",
     "iopub.status.idle": "2025-04-16T07:49:15.904876Z",
     "shell.execute_reply": "2025-04-16T07:49:15.904010Z"
    },
    "jupyter": {
     "outputs_hidden": false
    },
    "papermill": {
     "duration": 0.019906,
     "end_time": "2025-04-16T07:49:15.906438",
     "exception": false,
     "start_time": "2025-04-16T07:49:15.886532",
     "status": "completed"
    },
    "tags": []
   },
   "outputs": [],
   "source": [
    "# Create prompt for Gemini API\n",
    "def make_t1d_prompt(patient_data, relevant_passages):\n",
    "    \"\"\"\n",
    "    Create a structured prompt combining patient data and relevant T1D guidelines\n",
    "    \n",
    "    Args:\n",
    "        patient_data: Dictionary with patient information\n",
    "        relevant_passages: Retrieved medical guideline passages\n",
    "        \n",
    "    Returns:\n",
    "        Formatted prompt for the LLM\n",
    "    \"\"\"\n",
    "    escaped_passages = [p.replace(\"'\", \"\").replace('\"', \"\").replace(\"\\n\", \" \") for p in relevant_passages]\n",
    "    passages_text = \"\\n\".join([f\"PASSAGE {i+1}: '{p}'\" for i, p in enumerate(escaped_passages)])\n",
    "    \n",
    "    prompt = f\"\"\"\n",
    "    You are a healthcare AI assistant trained to provide information about Type 1 Diabetes management guidelines.\n",
    "    Answer based solely on the reference passages included below.\n",
    "    Be comprehensive but clear, and avoid medical jargon when possible.\n",
    "    If the passages don't contain relevant information to answer the question, acknowledge the limitations.\n",
    "    Do not make up information not contained in the passages.\n",
    "    \n",
    "    PATIENT: {patient_data['age']} year old {patient_data['sex']}, weighing {patient_data['weight']}kg\n",
    "    GLUCOSE PATTERN: {patient_data['glucose_pattern']}\n",
    "    QUESTION: '{patient_data['question']}'\n",
    "    \n",
    "    {passages_text}\n",
    "    \n",
    "    ANSWER:\n",
    "    \"\"\"\n",
    "    \n",
    "    return prompt\n",
    "\n",
    "# Generate response from Gemini\n",
    "def get_t1d_guidance(patient_data, db):\n",
    "    \"\"\"\n",
    "    Generate personalized T1D guidance based on patient data and medical guidelines\n",
    "    \n",
    "    Args:\n",
    "        patient_data: Dictionary with patient information\n",
    "        db: ChromaDB collection with T1D guidelines\n",
    "        \n",
    "    Returns:\n",
    "        Personalized guidance text\n",
    "    \"\"\"\n",
    "    # Get relevant passages\n",
    "    relevant_passages = get_relevant_passages(patient_data, db)\n",
    "    \n",
    "    # Create prompt\n",
    "    prompt = make_t1d_prompt(patient_data, relevant_passages)\n",
    "    \n",
    "    # Generate response\n",
    "    response = client.models.generate_content(\n",
    "        model=GENERATION_MODEL_NAME,\n",
    "        contents=prompt\n",
    "    )\n",
    "    \n",
    "    return response.text"
   ]
  },
  {
   "cell_type": "code",
   "execution_count": 14,
   "id": "5c16aa25",
   "metadata": {
    "_cell_guid": "aa829d82-697e-43a2-9a1e-4f31acc6cf4d",
    "_uuid": "c3882591-2a55-416a-9099-bcaaaf20615d",
    "collapsed": false,
    "execution": {
     "iopub.execute_input": "2025-04-16T07:49:15.927417Z",
     "iopub.status.busy": "2025-04-16T07:49:15.927101Z",
     "iopub.status.idle": "2025-04-16T07:49:16.202131Z",
     "shell.execute_reply": "2025-04-16T07:49:16.201164Z"
    },
    "jupyter": {
     "outputs_hidden": false
    },
    "papermill": {
     "duration": 0.287757,
     "end_time": "2025-04-16T07:49:16.204146",
     "exception": false,
     "start_time": "2025-04-16T07:49:15.916389",
     "status": "completed"
    },
    "tags": []
   },
   "outputs": [],
   "source": [
    "chroma_client = chromadb.Client()"
   ]
  },
  {
   "cell_type": "code",
   "execution_count": 15,
   "id": "d25803d3",
   "metadata": {
    "_cell_guid": "d501d713-e73a-42fb-b8e6-db8ae3fd522b",
    "_uuid": "9dfdaaf6-6783-46bb-ba37-255563c79fe8",
    "collapsed": false,
    "execution": {
     "iopub.execute_input": "2025-04-16T07:49:16.228173Z",
     "iopub.status.busy": "2025-04-16T07:49:16.227828Z",
     "iopub.status.idle": "2025-04-16T07:49:16.235212Z",
     "shell.execute_reply": "2025-04-16T07:49:16.233993Z"
    },
    "jupyter": {
     "outputs_hidden": false
    },
    "papermill": {
     "duration": 0.021289,
     "end_time": "2025-04-16T07:49:16.237095",
     "exception": false,
     "start_time": "2025-04-16T07:49:16.215806",
     "status": "completed"
    },
    "tags": []
   },
   "outputs": [
    {
     "name": "stdout",
     "output_type": "stream",
     "text": [
      "Existing collections: []\n"
     ]
    }
   ],
   "source": [
    "collections = chroma_client.list_collections()\n",
    "print(f\"Existing collections: {[col.name for col in collections]}\")"
   ]
  },
  {
   "cell_type": "code",
   "execution_count": 16,
   "id": "ef3f61e0",
   "metadata": {
    "_cell_guid": "363d1e55-0293-426a-b25e-9d654e9004d3",
    "_uuid": "3e11b498-da9c-4014-af73-114b76b482da",
    "collapsed": false,
    "execution": {
     "iopub.execute_input": "2025-04-16T07:49:16.258663Z",
     "iopub.status.busy": "2025-04-16T07:49:16.258216Z",
     "iopub.status.idle": "2025-04-16T07:49:18.114875Z",
     "shell.execute_reply": "2025-04-16T07:49:18.113687Z"
    },
    "jupyter": {
     "outputs_hidden": false
    },
    "papermill": {
     "duration": 1.86914,
     "end_time": "2025-04-16T07:49:18.116724",
     "exception": false,
     "start_time": "2025-04-16T07:49:16.247584",
     "status": "completed"
    },
    "tags": []
   },
   "outputs": [
    {
     "name": "stderr",
     "output_type": "stream",
     "text": [
      "/tmp/ipykernel_13/1755686047.py:20: DeprecationWarning: The class GeminiEmbeddingFunction does not implement __init__. This will be required in a future version.\n",
      "  embedding_function=GeminiEmbeddingFunction()\n"
     ]
    }
   ],
   "source": [
    "t1d_db = create_t1d_guidelines_db(documents)"
   ]
  },
  {
   "cell_type": "markdown",
   "id": "68a5f409",
   "metadata": {
    "_cell_guid": "830c74a9-6891-49fc-a044-73b8ca801ee2",
    "_uuid": "ce48a3cd-d642-4a92-b3a4-9bd6fa0897e1",
    "collapsed": false,
    "jupyter": {
     "outputs_hidden": false
    },
    "papermill": {
     "duration": 0.009195,
     "end_time": "2025-04-16T07:49:18.136303",
     "exception": false,
     "start_time": "2025-04-16T07:49:18.127108",
     "status": "completed"
    },
    "tags": []
   },
   "source": [
    "## Load and analyze data\n",
    "This section demonstrates how to load patient glucose data and analyze it to identify patterns that will inform personalized meal planning.   \n",
    "The pattern recognition is crucial for creating tailored dietary recommendations."
   ]
  },
  {
   "cell_type": "code",
   "execution_count": 17,
   "id": "0b28b733",
   "metadata": {
    "_cell_guid": "62b029d7-f89d-4135-aec1-da49eee48266",
    "_uuid": "63953d12-709e-41df-82c5-f56fe101d009",
    "collapsed": false,
    "execution": {
     "iopub.execute_input": "2025-04-16T07:49:18.157684Z",
     "iopub.status.busy": "2025-04-16T07:49:18.157335Z",
     "iopub.status.idle": "2025-04-16T07:49:18.175489Z",
     "shell.execute_reply": "2025-04-16T07:49:18.174603Z"
    },
    "jupyter": {
     "outputs_hidden": false
    },
    "papermill": {
     "duration": 0.031136,
     "end_time": "2025-04-16T07:49:18.177002",
     "exception": false,
     "start_time": "2025-04-16T07:49:18.145866",
     "status": "completed"
    },
    "tags": []
   },
   "outputs": [],
   "source": [
    "def load_patient_data(file_path: str) -> dict:\n",
    "    \"\"\"\n",
    "    Load patient demographic data and analyze glucose readings from CSV\n",
    "    \n",
    "    Args:\n",
    "        file_path: Path to the CSV file with patient data\n",
    "        \n",
    "    Returns:\n",
    "        Dictionary with patient information and glucose pattern\n",
    "    \"\"\"\n",
    "    # Load data\n",
    "    df = pd.read_csv(file_path)\n",
    "    \n",
    "    # Extract patient information\n",
    "    patient_info = {\n",
    "        'age': df['age'].iloc[0] if 'age' in df.columns else None,\n",
    "        'sex': df['sex'].iloc[0] if 'sex' in df.columns else None,\n",
    "        'weight': df['weight'].iloc[0] if 'weight' in df.columns else None,\n",
    "        'allergies': df['allergies'].iloc[0] if 'allergies' in df.columns else 'None',\n",
    "        'food_preferences': df['food_preferences'].iloc[0] if 'food_preferences' in df.columns else None\n",
    "    }\n",
    "    \n",
    "    # Analyze glucose patterns\n",
    "    if 'glucose_reading' in df.columns and 'timestamp' in df.columns:\n",
    "        df['timestamp'] = pd.to_datetime(df['timestamp'])\n",
    "        df['hour'] = df['timestamp'].dt.hour\n",
    "        \n",
    "        # Identify time periods\n",
    "        df['period'] = pd.cut(\n",
    "            df['hour'],\n",
    "            bins=[0, 6, 12, 18, 24],\n",
    "            labels=['night', 'morning', 'afternoon', 'evening']\n",
    "        )\n",
    "        \n",
    "        # Calculate statistics by period\n",
    "        period_stats = df.groupby('period')['glucose_reading'].agg(['mean', 'std'])\n",
    "        \n",
    "        # Dawn phenomenon detection\n",
    "        morning_readings = df[(df['timestamp'].dt.hour >= 4) & (df['timestamp'].dt.hour <= 7)]\n",
    "        morning_avg = morning_readings['glucose_reading'].mean() if len(morning_readings) > 0 else 0\n",
    "        \n",
    "        # Post-meal spike detection\n",
    "        meal_times = [8, 13, 19]  # Breakfast, lunch, dinner hours\n",
    "        post_meal_spikes = []\n",
    "        \n",
    "        for meal_hour in meal_times:\n",
    "            meal_readings = df[(df['timestamp'].dt.hour >= meal_hour) & \n",
    "                              (df['timestamp'].dt.hour <= meal_hour + 2)]\n",
    "            if len(meal_readings) > 0:\n",
    "                post_meal_spikes.append(meal_readings['glucose_reading'].max())\n",
    "        \n",
    "        post_meal_avg = np.mean(post_meal_spikes) if post_meal_spikes else 0\n",
    "        \n",
    "        # Hypoglycemia detection\n",
    "        hypo_events = df[df['glucose_reading'] < 70]\n",
    "        hypo_count = len(hypo_events)\n",
    "        \n",
    "        # Determine dominant pattern\n",
    "        pattern = \"\"\n",
    "        if morning_avg > 160:\n",
    "            pattern += \"dawn phenomenon (elevated morning glucose) \"\n",
    "        \n",
    "        if post_meal_avg > 180:\n",
    "            pattern += \"post-meal spikes \"\n",
    "        \n",
    "        if hypo_count > 0:\n",
    "            pattern += f\"hypoglycemia ({hypo_count} events) \"\n",
    "        \n",
    "        if not pattern:\n",
    "            pattern = \"generally stable glucose levels\"\n",
    "            \n",
    "        patient_info['glucose_pattern'] = pattern.strip()\n",
    "    else:\n",
    "        patient_info['glucose_pattern'] = \"Unknown - insufficient glucose data\"\n",
    "    \n",
    "    return patient_info\n",
    "\n",
    "def analyze_glucose_statistics(patient_data, glucose_df=None):\n",
    "    \"\"\"\n",
    "    Analyze glucose monitoring data and calculate key statistics.\n",
    "    \n",
    "    Args:\n",
    "        patient_data: Dictionary with patient information\n",
    "        glucose_df: DataFrame with glucose monitoring data\n",
    "        \n",
    "    Returns:\n",
    "        Dictionary with calculated glucose statistics\n",
    "    \"\"\"\n",
    "    # Default values in case calculation fails\n",
    "    stats = {\n",
    "        'avg_glucose': 0.0,\n",
    "        'std_glucose': 0.0,\n",
    "        'time_in_range': 0.0,\n",
    "        'post_meal_rise': 0.0\n",
    "    }\n",
    "    \n",
    "    try:\n",
    "        if glucose_df is None or glucose_df.empty:\n",
    "            logger.warning(\"No glucose data available for analysis\")\n",
    "            return stats\n",
    "            \n",
    "        # Calculate average glucose level\n",
    "        stats['avg_glucose'] = glucose_df['glucose_reading'].mean()\n",
    "        \n",
    "        # Calculate standard deviation\n",
    "        stats['std_glucose'] = glucose_df['glucose_reading'].std()\n",
    "        \n",
    "        # Calculate time in range (70-180 mg/dL is typical range for T1D)\n",
    "        in_range = ((glucose_df['glucose_reading'] >= 70) & \n",
    "                   (glucose_df['glucose_reading'] <= 180)).mean() * 100\n",
    "        stats['time_in_range'] = in_range\n",
    "        \n",
    "        # Calculate post-meal rise if meal markers are available\n",
    "        if 'is_post_meal' in glucose_df.columns:\n",
    "            post_meal_readings = glucose_df[glucose_df['is_post_meal'] == True]\n",
    "            pre_meal_readings = glucose_df[glucose_df['is_post_meal'] == False]\n",
    "            \n",
    "            if not post_meal_readings.empty and not pre_meal_readings.empty:\n",
    "                stats['post_meal_rise'] = (post_meal_readings['glucose_reading'].mean() - \n",
    "                                          pre_meal_readings['glucose_reading'].mean())\n",
    "        \n",
    "        # Alternative approach if meal markers aren't available but timestamps are\n",
    "        elif 'timestamp' in glucose_df.columns and 'meal_time' in glucose_df.columns:\n",
    "            # Group readings by meal events and calculate the rise\n",
    "            meal_rises = []\n",
    "            \n",
    "            for meal_time in glucose_df['meal_time'].dropna().unique():\n",
    "                # Get timestamp of meal\n",
    "                meal_timestamp = pd.to_datetime(meal_time)\n",
    "                \n",
    "                # Find pre-meal reading (30 min before meal)\n",
    "                pre_meal = glucose_df[(pd.to_datetime(glucose_df['timestamp']) >= meal_timestamp - pd.Timedelta(minutes=30)) &\n",
    "                                     (pd.to_datetime(glucose_df['timestamp']) <= meal_timestamp)]\n",
    "                \n",
    "                # Find post-meal reading (2 hours after meal)\n",
    "                post_meal = glucose_df[(pd.to_datetime(glucose_df['timestamp']) >= meal_timestamp) &\n",
    "                                      (pd.to_datetime(glucose_df['timestamp']) <= meal_timestamp + pd.Timedelta(hours=2))]\n",
    "                \n",
    "                if not pre_meal.empty and not post_meal.empty:\n",
    "                    # Calculate rise from pre-meal to peak post-meal\n",
    "                    pre_value = pre_meal['glucose_reading'].mean()\n",
    "                    post_peak = post_meal['glucose_reading'].max()\n",
    "                    meal_rises.append(post_peak - pre_value)\n",
    "            \n",
    "            if meal_rises:\n",
    "                stats['post_meal_rise'] = sum(meal_rises) / len(meal_rises)\n",
    "            \n",
    "        # Ensure all values are properly formatted as floats\n",
    "        for key in stats:\n",
    "            if stats[key] is None or np.isnan(stats[key]):\n",
    "                stats[key] = 0.0\n",
    "            else:\n",
    "                stats[key] = float(stats[key])\n",
    "                \n",
    "        return stats\n",
    "        \n",
    "    except Exception as e:\n",
    "        logger.error(f\"Error analyzing glucose data: {str(e)}\")\n",
    "        return stats"
   ]
  },
  {
   "cell_type": "markdown",
   "id": "9123318f",
   "metadata": {
    "_cell_guid": "84db487a-f6d8-4b71-b4f8-9da64044aac4",
    "_uuid": "6f253920-4786-4e0d-ba93-3fdc61754139",
    "collapsed": false,
    "jupyter": {
     "outputs_hidden": false
    },
    "papermill": {
     "duration": 0.010085,
     "end_time": "2025-04-16T07:49:18.197226",
     "exception": false,
     "start_time": "2025-04-16T07:49:18.187141",
     "status": "completed"
    },
    "tags": []
   },
   "source": [
    "## Visualizing Glucose Patterns\n",
    "\n",
    "Visualizing glucose patterns helps identify key trends that inform meal planning. The chart below shows:\n",
    "\n",
    "- Average glucose levels by hour of day\n",
    "- Target range for blood glucose\n",
    "- Highlighted periods with potential issues (dawn phenomenon, post-meal spikes)\n",
    "\n",
    "This visualization makes it easier to identify when dietary interventions are most needed."
   ]
  },
  {
   "cell_type": "code",
   "execution_count": 18,
   "id": "b8a8904b",
   "metadata": {
    "_cell_guid": "d4cf2558-9d26-46ce-9ac5-5c032dd94df4",
    "_uuid": "463519b3-ec35-459e-bf87-75784ddf8273",
    "collapsed": false,
    "execution": {
     "iopub.execute_input": "2025-04-16T07:49:18.219276Z",
     "iopub.status.busy": "2025-04-16T07:49:18.218942Z",
     "iopub.status.idle": "2025-04-16T07:49:18.228070Z",
     "shell.execute_reply": "2025-04-16T07:49:18.226993Z"
    },
    "jupyter": {
     "outputs_hidden": false
    },
    "papermill": {
     "duration": 0.022756,
     "end_time": "2025-04-16T07:49:18.230198",
     "exception": false,
     "start_time": "2025-04-16T07:49:18.207442",
     "status": "completed"
    },
    "tags": []
   },
   "outputs": [],
   "source": [
    "def visualize_glucose_patterns(df):\n",
    "    \"\"\"\n",
    "    Create a visualization of glucose patterns throughout the day\n",
    "    \n",
    "    Args:\n",
    "        df: DataFrame with glucose readings including 'hour' column\n",
    "        \n",
    "    Returns:\n",
    "        Matplotlib figure with glucose visualization\n",
    "    \"\"\"\n",
    "    # Ensure hour column exists\n",
    "    if 'hour' not in df.columns and 'timestamp' in df.columns:\n",
    "        df['timestamp'] = pd.to_datetime(df['timestamp'])\n",
    "        df['hour'] = df['timestamp'].dt.hour\n",
    "        \n",
    "    # Group data by hour and calculate mean\n",
    "    hourly_glucose = df.groupby('hour')['glucose_reading'].mean()\n",
    "    \n",
    "    # Create plot\n",
    "    plt.figure(figsize=(10, 6))\n",
    "    ax = hourly_glucose.plot(kind='bar', color='skyblue')\n",
    "    \n",
    "    # Add horizontal reference lines for target ranges\n",
    "    plt.axhline(y=180, color='r', linestyle='-', alpha=0.3, label='High threshold')\n",
    "    plt.axhline(y=70, color='orange', linestyle='-', alpha=0.3, label='Low threshold')\n",
    "    plt.axhspan(70, 180, color='green', alpha=0.1, label='Target range')\n",
    "    \n",
    "    # Add labels and title\n",
    "    plt.xlabel('Hour of Day')\n",
    "    plt.ylabel('Average Glucose (mg/dL)')\n",
    "    plt.title('24-Hour Glucose Pattern')\n",
    "    plt.legend()\n",
    "    plt.xticks(rotation=45)\n",
    "    \n",
    "    # Highlight dawn phenomenon if present\n",
    "    if df.loc[df['hour'].between(4, 7), 'glucose_reading'].mean() > 180:\n",
    "        plt.axvspan(4, 7, color='purple', alpha=0.1, label='Dawn phenomenon')\n",
    "        plt.legend()\n",
    "    \n",
    "    plt.tight_layout()\n",
    "    return plt"
   ]
  },
  {
   "cell_type": "markdown",
   "id": "efdd201e",
   "metadata": {
    "_cell_guid": "36b262af-0318-4c26-9cf8-2b00822acb18",
    "_uuid": "3eba3d1f-7df5-4b4e-be39-22961f284ead",
    "collapsed": false,
    "jupyter": {
     "outputs_hidden": false
    },
    "papermill": {
     "duration": 0.009766,
     "end_time": "2025-04-16T07:49:18.250440",
     "exception": false,
     "start_time": "2025-04-16T07:49:18.240674",
     "status": "completed"
    },
    "tags": []
   },
   "source": [
    "## Recipe Search and Analysis Engine\n",
    "\n",
    "This advanced recipe analysis system provides three key innovations:\n",
    "\n",
    "1. **Multimodal Recipe Analysis**: Evaluates recipes from both text and images when available\n",
    "2. **Personalized Glycemic Impact Prediction**: Estimates the glycemic impact based on patient-specific data\n",
    "3. **Adaptive Recommendation Engine**: Learns from patient feedback to improve future suggestions\n",
    "\n",
    "The system integrates:\n",
    "- Patient glucose monitoring data\n",
    "- Evidence-based T1D nutrition guidelines\n",
    "- Web-scraped recipe information\n",
    "- Optionally, food image analysis for enhanced nutrient estimation\n",
    "- Structured output requirements\n",
    "\n",
    "By using JSON as the output format, we enable easy parsing and presentation of the results, making them more accessible to patients."
   ]
  },
  {
   "cell_type": "code",
   "execution_count": 19,
   "id": "5eb902dd",
   "metadata": {
    "_cell_guid": "2f757517-a0a9-4669-ba27-bdd3fec1d9d5",
    "_uuid": "c6dea859-51e7-4f2e-a910-9a45b5d2c0cc",
    "collapsed": false,
    "execution": {
     "iopub.execute_input": "2025-04-16T07:49:18.272149Z",
     "iopub.status.busy": "2025-04-16T07:49:18.271838Z",
     "iopub.status.idle": "2025-04-16T07:49:18.315412Z",
     "shell.execute_reply": "2025-04-16T07:49:18.314471Z"
    },
    "jupyter": {
     "outputs_hidden": false
    },
    "papermill": {
     "duration": 0.056992,
     "end_time": "2025-04-16T07:49:18.317128",
     "exception": false,
     "start_time": "2025-04-16T07:49:18.260136",
     "status": "completed"
    },
    "tags": []
   },
   "outputs": [],
   "source": [
    "class RecipeSearchEngine:\n",
    "    \"\"\"\n",
    "    Advanced recipe search engine using Gemini's capabilities to find and analyze\n",
    "    recipes suitable for Type 1 Diabetes patients.\n",
    "    \n",
    "    This class handles:\n",
    "    - Web search for relevant recipes\n",
    "    - Nutritional analysis\n",
    "    - Personalization based on patient data\n",
    "    - Glycemic impact estimation\n",
    "    \"\"\"\n",
    "    \n",
    "    def __init__(self, client, t1d_db=None):\n",
    "        \"\"\"\n",
    "        Initialize the recipe search engine.\n",
    "        \n",
    "        Args:\n",
    "            client: Gemini API client\n",
    "            t1d_db: ChromaDB collection with T1D guidelines\n",
    "        \"\"\"\n",
    "        self.client = client\n",
    "        self.t1d_db = t1d_db\n",
    "        self.recipe_cache = {}  # Cache to prevent redundant searches\n",
    "        self.model_config = {\n",
    "            \"search_model\": GENERATION_MODEL_NAME,\n",
    "            \"analysis_model\": GENERATION_MODEL_NAME,\n",
    "            \"temperature\": 0.2,\n",
    "            \"top_p\": 0.8,\n",
    "        }\n",
    "    \n",
    "    def search_recipes(self, query: str, num_results: int = 3, \n",
    "                      include_images: bool = True) -> dict:\n",
    "        \"\"\"\n",
    "        Search for recipes using Gemini Web Search with multimodal capabilities.\n",
    "        \n",
    "        Args:\n",
    "            query: The search query for recipes\n",
    "            num_results: Number of recipe results to return\n",
    "            include_images: Whether to include and analyze recipe images\n",
    "            \n",
    "        Returns:\n",
    "            Dictionary containing recipe results and search metadata\n",
    "        \"\"\"\n",
    "        # Create cache key for this search\n",
    "        cache_key = f\"{query}_{num_results}_{include_images}\"\n",
    "        if cache_key in self.recipe_cache:\n",
    "            logger.info(\"Using cached recipe results\")\n",
    "            return self.recipe_cache[cache_key]\n",
    "        \n",
    "        # Build search prompt with multimodal instructions if needed\n",
    "        image_instruction = \"\"\n",
    "        if include_images:\n",
    "            image_instruction = \"\"\"\n",
    "            Also, if the recipe has images, please include the image URL.\n",
    "            For recipes with images, analyze the visual presentation and\n",
    "            portion size considerations for T1D patients.\n",
    "            \"\"\"\n",
    "            \n",
    "        search_prompt = f\"\"\"\n",
    "        Search the web for {num_results} different recipes that match this criteria: {query}\n",
    "        \n",
    "        For each recipe, provide:\n",
    "        1. The full recipe name\n",
    "        2. The source website with URL\n",
    "        3. List of ingredients with measurements\n",
    "        4. Cooking instructions with detailed steps\n",
    "        5. Estimated carbohydrate content per serving (if available, or provide a calculated estimate)\n",
    "        6. Protein and fat content (if available)\n",
    "        7. Glycemic index estimate (low/medium/high) with rationale\n",
    "        {image_instruction}\n",
    "        \n",
    "        Format the results clearly showing each recipe separately.\n",
    "        \"\"\"\n",
    "        \n",
    "        # Execute search using Gemini model with web search capabilities\n",
    "        try:\n",
    "            response = self.client.models.generate_content(\n",
    "                model=self.model_config[\"search_model\"],\n",
    "                contents=search_prompt,\n",
    "                config={\"tools\": [{\"google_search\": {}}]},\n",
    "            )\n",
    "            \n",
    "            # Capture search metadata for transparency\n",
    "            search_metadata = {\n",
    "                \"query\": query,\n",
    "                \"search_queries\": response.candidates[0].grounding_metadata.web_search_queries,\n",
    "                \"sources\": [site.web.title for site in response.candidates[0].grounding_metadata.grounding_chunks],\n",
    "                \"timestamp\": datetime.now().isoformat()\n",
    "            }\n",
    "            \n",
    "            # Package results\n",
    "            result = {\n",
    "                \"recipes_text\": response.text,\n",
    "                \"search_metadata\": search_metadata,\n",
    "                \"rendered_content\": response.candidates[0].grounding_metadata.search_entry_point.rendered_content\n",
    "            }\n",
    "            \n",
    "            # Cache results\n",
    "            self.recipe_cache[cache_key] = result\n",
    "            \n",
    "            # Track token usage if available\n",
    "            if hasattr(response, 'usage'):\n",
    "                logger.info(f\"Token usage - Prompt: {response.usage.prompt_tokens}, Completion: {response.usage.completion_tokens}\")\n",
    "            \n",
    "            return result\n",
    "            \n",
    "        except Exception as e:\n",
    "            logger.error(f\"Recipe search failed: {str(e)}\")\n",
    "            return {\n",
    "                \"error\": str(e), \n",
    "                \"recipes_text\": \"Failed to retrieve recipes.\",\n",
    "                \"search_metadata\": {\"query\": query, \"sources\": [], \"timestamp\": datetime.now().isoformat()},\n",
    "                \"rendered_content\": \"\"\n",
    "            }\n",
    "\n",
    "    def analyze_recipes_for_patient(self,\n",
    "                                     patient_data: dict,\n",
    "                                     recipes_text: str,\n",
    "                                     glucose_history: Optional[pd.DataFrame] = None) -> dict:\n",
    "        \"\"\"\n",
    "        Analyze recipes for suitability for a specific T1D patient.\n",
    "\n",
    "        Args:\n",
    "            patient_data: Dictionary with patient information\n",
    "            recipes_text: Text containing recipes from web search\n",
    "            glucose_history: Optional DataFrame with patient's glucose readings\n",
    "\n",
    "        Returns:\n",
    "            Dictionary with structured recipe analysis\n",
    "        \"\"\"\n",
    "        # Get relevant guidance from T1D database\n",
    "        relevant_passages = self._get_relevant_guidelines(patient_data)\n",
    "\n",
    "        # Prepare glucose insight if available\n",
    "        glucose_insight = \"\"\n",
    "        if glucose_history is not None:\n",
    "            glucose_stats = analyze_glucose_statistics(patient_data, glucose_history)  # Pass the glucose_history here\n",
    "            glucose_insight = f\"\"\"\n",
    "            Additional glucose monitoring insights:\n",
    "            - Average glucose: {glucose_stats['avg_glucose']:.1f} mg/dL\n",
    "            - Standard deviation: {glucose_stats['std_glucose']:.1f} mg/dL\n",
    "            - Time in range: {glucose_stats['time_in_range']:.1f}%\n",
    "            - Peak post-meal rise: {glucose_stats['post_meal_rise']:.1f} mg/dL on average\n",
    "            \"\"\"\n",
    "\n",
    "        # Create analysis prompt with all available data\n",
    "        basic_info = f\"\"\"\n",
    "        # Patient Profile for T1D Meal Planning\n",
    "\n",
    "        ## Basic Information:\n",
    "        - Age: {patient_data['age']} years old\n",
    "        - Sex: {patient_data['sex']}\n",
    "        - Weight: {patient_data['weight']}kg\n",
    "        - Glucose pattern: {patient_data['glucose_pattern']}\n",
    "        - Allergies/Restrictions: {patient_data.get('allergies', 'None')}\n",
    "        - Food preferences: {patient_data.get('food_preferences', 'No specific preferences')}\n",
    "        \"\"\"\n",
    "\n",
    "        guidelines_text = \"\\n\".join(relevant_passages)\n",
    "\n",
    "        recipes_block = f\"\"\"\n",
    "        ## Evidence-based T1D Guidelines:\n",
    "        {guidelines_text}\n",
    "\n",
    "        ## Recipes to Analyze:\n",
    "        {recipes_text}\n",
    "        \"\"\"\n",
    "\n",
    "        glucose_block = glucose_insight if glucose_history is not None else \"\"\n",
    "\n",
    "        analysis_instructions = \"\"\"\n",
    "        ## Analysis Instructions:\n",
    "        For each recipe, provide a detailed T1D-focused analysis including:\n",
    "\n",
    "        1. Overall suitability (1-10 scale) with clear rationale based on the patient's specific glucose pattern\n",
    "        2. Carbohydrate breakdown: total amount, quality (complex vs simple), fiber content\n",
    "        3. Recommended portion size adjustment (if needed)\n",
    "        4. Specific modifications to better suit their T1D management (ingredient substitutions, cooking methods)\n",
    "        5. Meal timing recommendations (time of day best suited for this recipe)\n",
    "        6. Insulin considerations:\n",
    "           - Pre-bolus timing recommendations\n",
    "           - Potential impact of fat/protein on extended glucose effects\n",
    "           - Special dosing considerations (dual-wave/square-wave bolus needs)\n",
    "        7. Predicted glycemic impact (low/medium/high) with scientific explanation\n",
    "        \"\"\"\n",
    "\n",
    "        output_format = \"\"\"\n",
    "        Format your response as JSON with this structure:\n",
    "        {\n",
    "          \"recipes\": [\n",
    "            {\n",
    "              \"name\": \"Recipe name\",\n",
    "              \"source\": \"Source website\",\n",
    "              \"url\": \"Recipe URL\",\n",
    "              \"ingredients\": [\"List\", \"of\", \"ingredients\"],\n",
    "              \"instructions\": [\"Step 1\", \"Step 2\", \"etc\"],\n",
    "              \"nutritional_analysis\": {\n",
    "                \"carbs_grams\": 0,\n",
    "                \"protein_grams\": 0,\n",
    "                \"fat_grams\": 0,\n",
    "                \"fiber_grams\": 0,\n",
    "                \"glycemic_load_estimate\": 0\n",
    "              },\n",
    "              \"t1d_analysis\": {\n",
    "                \"suitability_score\": 0,\n",
    "                \"suitability_rationale\": \"Detailed explanation\",\n",
    "                \"portion_recommendation\": \"Specific recommendation\",\n",
    "                \"modifications\": [\"Modification 1\", \"Modification 2\"],\n",
    "                \"meal_timing\": \"Best time of day\",\n",
    "                \"insulin_guidance\": {\n",
    "                  \"pre_bolus_timing\": \"Recommendation in minutes\",\n",
    "                  \"bolus_type\": \"Standard/Extended/Dual Wave\",\n",
    "                  \"special_considerations\": \"Any special notes\"\n",
    "                },\n",
    "                \"glycemic_impact\": {\n",
    "                  \"rating\": \"low/medium/high\",\n",
    "                  \"explanation\": \"Scientific explanation\"\n",
    "                }\n",
    "              }\n",
    "            }\n",
    "          ],\n",
    "          \"overall_recommendation\": \"Summary of best choices for this patient\"\n",
    "        }\n",
    "        \"\"\"\n",
    "        # Combine everything\n",
    "        analysis_prompt = basic_info + glucose_block + recipes_block + analysis_instructions + output_format\n",
    "\n",
    "        # Generate structured analysis\n",
    "        try:\n",
    "            response = self.client.models.generate_content(\n",
    "                model=self.model_config[\"analysis_model\"],\n",
    "                contents=analysis_prompt,\n",
    "                config={\n",
    "                    \"temperature\": self.model_config[\"temperature\"],\n",
    "                    \"top_p\": self.model_config[\"top_p\"],\n",
    "                    \"response_mime_type\": \"application/json\",\n",
    "                }\n",
    "            )\n",
    "\n",
    "            # Check if the response is valid JSON\n",
    "            if not response.text.strip().startswith('{'):\n",
    "                raise ValueError(\"Response is not valid JSON\")\n",
    "\n",
    "            # Parse the JSON response\n",
    "            result = json.loads(response.text)\n",
    "\n",
    "            # Add metadata to result\n",
    "            result[\"metadata\"] = {\n",
    "                \"analysis_timestamp\": datetime.now().isoformat(),\n",
    "                \"patient_age\": patient_data['age'],\n",
    "                \"glucose_pattern\": patient_data['glucose_pattern']\n",
    "            }\n",
    "\n",
    "            return result\n",
    "\n",
    "        except json.JSONDecodeError:\n",
    "            logger.error(\"JSON parsing failed in recipe analysis\")\n",
    "            # If JSON parsing fails, extract recipes manually\n",
    "            return {\n",
    "                \"error\": \"JSON parsing failed\",\n",
    "                \"raw_response\": response.text,\n",
    "                \"recipes\": [{\"name\": \"Error in recipe analysis\", \"rationale\": \"Could not structure the analysis properly\"}]\n",
    "            }\n",
    "        except ValueError as ve:\n",
    "            logger.error(f\"Value error in recipe analysis: {str(ve)}\")\n",
    "            return {\n",
    "                \"error\": str(ve),\n",
    "                \"raw_response\": response.text,\n",
    "                \"recipes\": [{\"name\": \"Error in recipe analysis\", \"rationale\": \"Response is not valid JSON\"}]\n",
    "            }\n",
    "        except Exception as e:\n",
    "            logger.error(f\"Recipe analysis failed: {str(e)}\")\n",
    "            return {\"error\": str(e)}\n",
    "\n",
    "    def _get_relevant_guidelines(self, patient_data: dict) -> List[str]:\n",
    "        \"\"\"\n",
    "        Query T1D guidelines database for relevant passages.\n",
    "        \n",
    "        Args:\n",
    "            patient_data: Dictionary with patient information\n",
    "            \n",
    "        Returns:\n",
    "            List of relevant guideline passages\n",
    "        \"\"\"\n",
    "        if self.t1d_db is None:\n",
    "            logger.warning(\"No T1D database provided, using default guidelines\")\n",
    "            return [\"Standard carbohydrate counting is recommended for T1D patients.\", \n",
    "                   \"Consider pre-bolusing insulin 15-20 minutes before meals.\"]\n",
    "            \n",
    "        # Query relevant information based on patient profile\n",
    "        query = f\"What dietary recommendations are appropriate for a {patient_data['age']}-year-old \" \\\n",
    "                f\"{patient_data['sex']} T1D patient with {patient_data['glucose_pattern']}?\"\n",
    "        \n",
    "        results = self.t1d_db.query(query_texts=[query], n_results=5)\n",
    "        \n",
    "        # Extract and return passages\n",
    "        if 'documents' in results and len(results['documents']) > 0:\n",
    "            return results['documents'][0]\n",
    "        else:\n",
    "            logger.warning(\"No relevant guidelines found in database\")\n",
    "            return [\"No specific guidelines found. Using standard T1D recommendations.\"]\n",
    "    \n",
    "    def visualize_recipe_analysis(self, analysis_result: dict) -> None:\n",
    "        \"\"\"\n",
    "        Create visualizations for recipe analysis results.\n",
    "    \n",
    "        Args:\n",
    "            analysis_result: Dictionary with recipe analysis\n",
    "        \"\"\"\n",
    "        if 'error' in analysis_result:\n",
    "            print(f\"Error in analysis: {analysis_result['error']}\")\n",
    "            return\n",
    "    \n",
    "        if 'recipes' not in analysis_result:\n",
    "            print(\"No recipes found in analysis results\")\n",
    "            return\n",
    "    \n",
    "        # Create a bar chart comparing suitability scores\n",
    "        recipes = analysis_result['recipes']\n",
    "        recipe_names = [r['name'] if len(r['name']) < 30 else r['name'][:27]+'...' for r in recipes]\n",
    "        suitability_scores = [r['t1d_analysis']['suitability_score'] if 't1d_analysis' in r else 0 for r in recipes]\n",
    "    \n",
    "        plt.figure(figsize=(10, 6))\n",
    "        bars = plt.bar(recipe_names, suitability_scores, color='skyblue')\n",
    "        plt.xlabel('Recipe')\n",
    "        plt.ylabel('T1D Suitability Score (1-10)')\n",
    "        plt.title('Recipe Suitability Comparison')\n",
    "        plt.xticks(rotation=45, ha='right')\n",
    "        plt.tight_layout()\n",
    "    \n",
    "        # Add values on top of bars\n",
    "        for bar in bars:\n",
    "            height = bar.get_height()\n",
    "            plt.text(bar.get_x() + bar.get_width()/2., height + 0.1,\n",
    "                    f'{height:.1f}', ha='center', va='bottom')\n",
    "    \n",
    "        plt.ylim(0, 11)  # Set y-axis limit\n",
    "        plt.savefig(f\"/kaggle/working/recipe_analysis\")\n",
    "    \n",
    "        # Create a nutritional comparison chart\n",
    "        if all('nutritional_analysis' in r for r in recipes):\n",
    "            carbs = [r['nutritional_analysis'].get('carbs_grams', 0) for r in recipes]\n",
    "            proteins = [r['nutritional_analysis'].get('protein_grams', 0) for r in recipes]\n",
    "            fats = [r['nutritional_analysis'].get('fat_grams', 0) for r in recipes]\n",
    "    \n",
    "            x = np.arange(len(recipe_names))\n",
    "            width = 0.25\n",
    "    \n",
    "            fig, ax = plt.subplots(figsize=(12, 6))\n",
    "            rects1 = ax.bar(x - width, carbs, width, label='Carbs (g)')\n",
    "            rects2 = ax.bar(x, proteins, width, label='Protein (g)')\n",
    "            rects3 = ax.bar(x + width, fats, width, label='Fat (g)')\n",
    "    \n",
    "            ax.set_xlabel('Recipes')\n",
    "            ax.set_ylabel('Grams')\n",
    "            ax.set_title('Macronutrient Comparison')\n",
    "            ax.set_xticks(x)\n",
    "            ax.set_xticklabels(recipe_names, rotation=45, ha='right')\n",
    "            ax.legend()\n",
    "    \n",
    "            fig.tight_layout()\n",
    "            plt.savefig(f\"/kaggle/working/nutritional_analysis\")\n",
    "\n",
    "    # Dietary recommendation helper\n",
    "    def determine_dietary_focus(self, glucose_pattern: str) -> str:\n",
    "        \"\"\"\n",
    "        Determine appropriate dietary focus based on glucose pattern.\n",
    "        \n",
    "        Args:\n",
    "            glucose_pattern: String describing glucose pattern\n",
    "            \n",
    "        Returns:\n",
    "            String with dietary focus recommendation\n",
    "        \"\"\"\n",
    "        if \"dawn phenomenon\" in glucose_pattern.lower():\n",
    "            return \"lower carb breakfast options with protein and fat to minimize morning glucose rise\"\n",
    "        elif \"post-meal spike\" in glucose_pattern.lower():\n",
    "            return \"slow-releasing carbohydrate meals with high fiber content and moderate protein\"\n",
    "        elif \"hypoglycemia\" in glucose_pattern.lower():\n",
    "            return \"balanced meals with moderate carbohydrates, protein, and fat for stable glucose\"\n",
    "        else:\n",
    "            return \"balanced diabetic-friendly meals with consistent carbohydrate content\"\n",
    "    \n",
    "    # Recipe display function\n",
    "    def display_recipe_recommendations(self, recipe_analysis: dict, output_path: str = \"/kaggle/working/recipe_recommendations.txt\") -> None:\n",
    "        \"\"\"\n",
    "        Print and save recipe recommendations to a text file.\n",
    "        \n",
    "        Args:\n",
    "            recipe_analysis: Dictionary with recipe analysis results\n",
    "            output_path: Path to save the text file\n",
    "        \"\"\"\n",
    "        lines = []\n",
    "    \n",
    "        def log(line=\"\"):\n",
    "            lines.append(line)\n",
    "            \n",
    "        if 'error' in recipe_analysis:\n",
    "            log(f\"\\n❌ Error in analysis: {recipe_analysis['error']}\")\n",
    "            raw = recipe_analysis.get('raw_response', '')\n",
    "            if raw:\n",
    "                log(\"🔍 Raw response (truncated):\")\n",
    "                log(raw[:1000])\n",
    "            with open(output_path, \"w\") as f:\n",
    "                f.write(\"\\n\".join(lines))\n",
    "            return\n",
    "    \n",
    "        recipes = recipe_analysis.get('recipes', [])\n",
    "        if not recipes:\n",
    "            log(\"⚠️ No recipes found.\")\n",
    "            with open(output_path, \"w\") as f:\n",
    "                f.write(\"\\n\".join(lines))\n",
    "            return\n",
    "    \n",
    "        log(\"📋 Recipe Recommendations:\\n\")\n",
    "    \n",
    "        if 'overall_recommendation' in recipe_analysis:\n",
    "            log(\"🔹 Overall Recommendation:\")\n",
    "            log(recipe_analysis['overall_recommendation'])\n",
    "            log(\"-\" * 60)\n",
    "    \n",
    "        for i, recipe in enumerate(recipes, 1):\n",
    "            log(f\"\\n🍽️ Recipe {i}: {recipe.get('name', 'Unnamed')}\")\n",
    "            log(f\"📎 Source: {recipe.get('source', 'N/A')}\")\n",
    "            log(f\"🔗 URL: {recipe.get('url', 'N/A')}\")\n",
    "    \n",
    "            t1d = recipe.get('t1d_analysis', {})\n",
    "            log(f\"\\n✔️ Suitability Score: {t1d.get('suitability_score', 'N/A')}/10\")\n",
    "            log(f\"📌 Why it’s suitable: {t1d.get('suitability_rationale', 'No explanation provided')}\")\n",
    "            log(f\"🍽️ Portion Suggestion: {t1d.get('portion_recommendation', 'Standard')}\")\n",
    "            log(f\"🕒 Best Meal Timing: {t1d.get('meal_timing', 'Any time')}\")\n",
    "    \n",
    "            if 'modifications' in t1d:\n",
    "                log(\"🛠️ Modifications:\")\n",
    "                for mod in t1d['modifications']:\n",
    "                    log(f\"  - {mod}\")\n",
    "    \n",
    "            insulin = t1d.get('insulin_guidance', {})\n",
    "            log(\"💉 Insulin Guidance:\")\n",
    "            log(f\"  - Pre-bolus: {insulin.get('pre_bolus_timing', 'N/A')}\")\n",
    "            log(f\"  - Bolus Type: {insulin.get('bolus_type', 'N/A')}\")\n",
    "            log(f\"  - Notes: {insulin.get('special_considerations', 'N/A')}\")\n",
    "    \n",
    "            gly = t1d.get('glycemic_impact', {})\n",
    "            log(\"📈 Glycemic Impact:\")\n",
    "            log(f\"  - Rating: {gly.get('rating', 'N/A')}\")\n",
    "            log(f\"  - Explanation: {gly.get('explanation', 'N/A')}\")\n",
    "    \n",
    "            nutri = recipe.get('nutritional_analysis', {})\n",
    "            log(\"\\n🔬 Nutrition:\")\n",
    "            log(f\"  - Carbs: {nutri.get('carbs_grams', 'N/A')}g\")\n",
    "            log(f\"  - Protein: {nutri.get('protein_grams', 'N/A')}g\")\n",
    "            log(f\"  - Fat: {nutri.get('fat_grams', 'N/A')}g\")\n",
    "            log(f\"  - Fiber: {nutri.get('fiber_grams', 'N/A')}g\")\n",
    "            log(f\"  - Glycemic Load: {nutri.get('glycemic_load_estimate', 'N/A')}\")\n",
    "    \n",
    "            ingredients = recipe.get('ingredients', [])\n",
    "            log(\"\\n🧾 Ingredients Preview:\")\n",
    "            for ing in ingredients[:5]:\n",
    "                log(f\"  - {ing}\")\n",
    "            if len(ingredients) > 5:\n",
    "                log(f\"  - ...and {len(ingredients)-5} more\")\n",
    "    \n",
    "            log(\"-\" * 60)\n",
    "    \n",
    "        # Save to file\n",
    "        with open(output_path, \"w\", encoding=\"utf-8\") as f:\n",
    "            f.write(\"\\n\".join(lines))\n",
    "    \n",
    "        print(f\"\\n✅ Recommendations saved to {output_path}\")\n",
    "\n",
    "\n",
    "\n",
    "def t1d_meal_planning_agent(glucose_data_path: str, t1d_db=None):\n",
    "    \"\"\"\n",
    "    Enhanced T1D meal planning agent that orchestrates the workflow for\n",
    "    personalized recipe recommendations.\n",
    "    \n",
    "    Args:\n",
    "        glucose_data_path: Path to the CSV file with patient glucose data\n",
    "        client: Gemini API client\n",
    "        t1d_db: ChromaDB collection with T1D guidelines\n",
    "        \n",
    "    Returns:\n",
    "        Dictionary with analysis results\n",
    "    \"\"\"\n",
    "    # Step 1: Load and analyze patient data\n",
    "    logger.info(\"Loading and analyzing patient data...\")\n",
    "    patient_data = load_patient_data(glucose_data_path)\n",
    "    \n",
    "    print(\"\\n🧑‍⚕️ Patient Profile Analysis\")\n",
    "    print(f\"Age: {patient_data['age']} years | Sex: {patient_data['sex']} | Weight: {patient_data['weight']}kg\")\n",
    "    print(f\"Glucose pattern: {patient_data['glucose_pattern']}\")\n",
    "    print(f\"Allergies: {patient_data.get('allergies', 'None')}\")\n",
    "    print(f\"Food preferences: {patient_data.get('food_preferences', 'No specific preferences')}\")\n",
    "    \n",
    "    # Load glucose history for personalized analysis\n",
    "    glucose_df = pd.read_csv(glucose_data_path)\n",
    "    \n",
    "    # Initialize recipe search engine\n",
    "    search_engine = RecipeSearchEngine(client, t1d_db)\n",
    "    \n",
    "    # Step 2: Determine dietary focus based on glucose pattern\n",
    "    dietary_focus = search_engine.determine_dietary_focus(patient_data['glucose_pattern'])\n",
    "    \n",
    "    # Step 3: Create personalized search query\n",
    "    allergies = patient_data.get('allergies', 'None')\n",
    "    preferences = patient_data.get('food_preferences', 'No specific preferences')\n",
    "    search_query = f\"diabetes-friendly recipes for {dietary_focus}, avoiding {allergies}, preferring {preferences}\"\n",
    "    \n",
    "    # Step 4: Search for recipes online\n",
    "    print(f\"\\n🌐 Searching for personalized recipes: {search_query}\")\n",
    "    search_results = search_engine.search_recipes(search_query, num_results=3, include_images=True)\n",
    "    \n",
    "    # Display search metadata\n",
    "    print(f\"\\nSearch Query: {search_results['search_metadata']['query']}\")\n",
    "    print(f\"Using sources: {', '.join(search_results['search_metadata']['sources'])}\")\n",
    "    #display(HTML(search_results['rendered_content']))\n",
    "    \n",
    "    # Step 5: Analyze recipes for the specific patient\n",
    "    print(\"\\n🔍 Analyzing recipes for T1D compatibility...\")\n",
    "    recipe_analysis = search_engine.analyze_recipes_for_patient(\n",
    "        patient_data=patient_data,\n",
    "        recipes_text=search_results['recipes_text'],\n",
    "        glucose_history=glucose_df\n",
    "    )\n",
    "    \n",
    "    # Step 6: Visualize the analysis\n",
    "    print(\"\\n📊 Recipe Analysis Visualization\")\n",
    "    search_engine.visualize_recipe_analysis(recipe_analysis)\n",
    "    \n",
    "    # Step 7: Present detailed results\n",
    "    print(\"\\n👨‍🍳 Personalized Recipe Recommendations:\")\n",
    "    search_engine.display_recipe_recommendations(recipe_analysis)\n",
    "    \n",
    "    return {\n",
    "        \"patient_data\": patient_data,\n",
    "        \"search_results\": search_results,\n",
    "        \"recipe_analysis\": recipe_analysis\n",
    "    }"
   ]
  },
  {
   "cell_type": "markdown",
   "id": "731e0e23",
   "metadata": {
    "_cell_guid": "bb3075b2-aeaa-470a-bdbc-1846e44b24f4",
    "_uuid": "5fb8e22e-a0a6-45ac-ac38-81bd6873379d",
    "collapsed": false,
    "jupyter": {
     "outputs_hidden": false
    },
    "papermill": {
     "duration": 0.009103,
     "end_time": "2025-04-16T07:49:18.335986",
     "exception": false,
     "start_time": "2025-04-16T07:49:18.326883",
     "status": "completed"
    },
    "tags": []
   },
   "source": [
    "## Test The Ass1stant D.\n",
    "We can finally test our assistant on some sample glucose data created with a dedicated function."
   ]
  },
  {
   "cell_type": "code",
   "execution_count": 20,
   "id": "8e1e96ef",
   "metadata": {
    "_cell_guid": "d748a8d0-4f8f-4d76-9378-e7a826885a83",
    "_uuid": "cf91c7d7-736a-478b-9986-39cf796e40d5",
    "collapsed": false,
    "execution": {
     "iopub.execute_input": "2025-04-16T07:49:18.357289Z",
     "iopub.status.busy": "2025-04-16T07:49:18.356958Z",
     "iopub.status.idle": "2025-04-16T07:49:18.364415Z",
     "shell.execute_reply": "2025-04-16T07:49:18.363432Z"
    },
    "jupyter": {
     "outputs_hidden": false
    },
    "papermill": {
     "duration": 0.020682,
     "end_time": "2025-04-16T07:49:18.366071",
     "exception": false,
     "start_time": "2025-04-16T07:49:18.345389",
     "status": "completed"
    },
    "tags": []
   },
   "outputs": [],
   "source": [
    "def create_sample_patient_data(output_path: str = \"sample_patient_data.csv\"):\n",
    "    \"\"\"\n",
    "    Create a sample CSV file with patient data for testing\n",
    "    \n",
    "    Args:\n",
    "        output_path: Path to save the CSV file\n",
    "    \"\"\"\n",
    "    # Create timestamps for the last 3 days\n",
    "    now = datetime.now()\n",
    "    timestamps = []\n",
    "    glucose_readings = []\n",
    "    \n",
    "    # Generate sample readings for the past 3 days\n",
    "    for day in range(3):\n",
    "        for hour in range(24):\n",
    "            timestamp = now - timedelta(days=day, hours=now.hour - hour)\n",
    "            timestamps.append(timestamp)\n",
    "            \n",
    "            # Simulate different glucose patterns\n",
    "            if 4 <= hour <= 7:  # hypoglicemia\n",
    "                glucose_readings.append(np.random.normal(75, 20))\n",
    "            elif hour in [8, 13, 19]:  # Post-meal spikes\n",
    "                glucose_readings.append(np.random.normal(210, 25))\n",
    "            else:\n",
    "                glucose_readings.append(np.random.normal(140, 30))\n",
    "    \n",
    "    # Create DataFrame\n",
    "    df = pd.DataFrame({\n",
    "        'timestamp': timestamps,\n",
    "        'glucose_reading': glucose_readings,\n",
    "        'age': 35,\n",
    "        'sex': 'female',\n",
    "        'weight': 65,\n",
    "        'allergies': 'nuts',\n",
    "        'food_preferences': 'vegetable-rich meals'\n",
    "    })\n",
    "    \n",
    "    # Save to CSV\n",
    "    df.to_csv(output_path, index=False)\n",
    "    print(f\"Sample patient data saved to {output_path}\")\n",
    "    return output_path"
   ]
  },
  {
   "cell_type": "code",
   "execution_count": 21,
   "id": "684ee266",
   "metadata": {
    "_cell_guid": "920fa78e-16e6-44a1-b2a5-feb45e47ccc2",
    "_uuid": "69a82346-5476-44e1-8f14-3f3eef73502c",
    "collapsed": false,
    "execution": {
     "iopub.execute_input": "2025-04-16T07:49:18.387344Z",
     "iopub.status.busy": "2025-04-16T07:49:18.387035Z",
     "iopub.status.idle": "2025-04-16T07:49:18.407133Z",
     "shell.execute_reply": "2025-04-16T07:49:18.406061Z"
    },
    "jupyter": {
     "outputs_hidden": false
    },
    "papermill": {
     "duration": 0.032457,
     "end_time": "2025-04-16T07:49:18.408635",
     "exception": false,
     "start_time": "2025-04-16T07:49:18.376178",
     "status": "completed"
    },
    "tags": []
   },
   "outputs": [
    {
     "name": "stdout",
     "output_type": "stream",
     "text": [
      "Sample patient data saved to sample_patient_data.csv\n"
     ]
    }
   ],
   "source": [
    "# Create sample data \n",
    "sample_data_path = create_sample_patient_data()"
   ]
  },
  {
   "cell_type": "code",
   "execution_count": 22,
   "id": "dfe50438",
   "metadata": {
    "_cell_guid": "9b565212-df03-467c-811b-b9932683ead8",
    "_uuid": "fb48d823-3fbf-484e-8236-e2d49ce13f85",
    "collapsed": false,
    "execution": {
     "iopub.execute_input": "2025-04-16T07:49:18.428908Z",
     "iopub.status.busy": "2025-04-16T07:49:18.428570Z",
     "iopub.status.idle": "2025-04-16T07:49:43.184164Z",
     "shell.execute_reply": "2025-04-16T07:49:43.182993Z"
    },
    "jupyter": {
     "outputs_hidden": false
    },
    "papermill": {
     "duration": 24.767961,
     "end_time": "2025-04-16T07:49:43.186209",
     "exception": false,
     "start_time": "2025-04-16T07:49:18.418248",
     "status": "completed"
    },
    "tags": []
   },
   "outputs": [
    {
     "name": "stdout",
     "output_type": "stream",
     "text": [
      "\n",
      "🧑‍⚕️ Patient Profile Analysis\n",
      "Age: 35 years | Sex: female | Weight: 65kg\n",
      "Glucose pattern: post-meal spikes hypoglycemia (6 events)\n",
      "Allergies: nuts\n",
      "Food preferences: vegetable-rich meals\n",
      "\n",
      "🌐 Searching for personalized recipes: diabetes-friendly recipes for slow-releasing carbohydrate meals with high fiber content and moderate protein, avoiding nuts, preferring vegetable-rich meals\n"
     ]
    },
    {
     "name": "stderr",
     "output_type": "stream",
     "text": [
      "/tmp/ipykernel_13/2748522369.py:36: FutureWarning: The default of observed=False is deprecated and will be changed to True in a future version of pandas. Pass observed=False to retain current behavior or observed=True to adopt the future default and silence this warning.\n",
      "  period_stats = df.groupby('period')['glucose_reading'].agg(['mean', 'std'])\n"
     ]
    },
    {
     "name": "stdout",
     "output_type": "stream",
     "text": [
      "\n",
      "Search Query: diabetes-friendly recipes for slow-releasing carbohydrate meals with high fiber content and moderate protein, avoiding nuts, preferring vegetable-rich meals\n",
      "Using sources: spectacularmag.com, eatingwell.com, everydayhealth.com, eatingwell.com, eatingwell.com, lovinghomecareinc.com, levels.com, diatribe.org, youtube.com, diabetesresearchconnection.org\n",
      "\n",
      "🔍 Analyzing recipes for T1D compatibility...\n",
      "\n",
      "📊 Recipe Analysis Visualization\n",
      "\n",
      "👨‍🍳 Personalized Recipe Recommendations:\n",
      "\n",
      "✅ Recommendations saved to /kaggle/working/recipe_recommendations.txt\n"
     ]
    },
    {
     "data": {
      "image/png": "[encoded data removed]",
      "text/plain": [
       "<Figure size 1000x600 with 1 Axes>"
      ]
     },
     "metadata": {},
     "output_type": "display_data"
    },
    {
     "data": {
      "image/png": "[encoded data removed]",
      "text/plain": [
       "<Figure size 1200x600 with 1 Axes>"
      ]
     },
     "metadata": {},
     "output_type": "display_data"
    }
   ],
   "source": [
    "# run the agent\n",
    "result = t1d_meal_planning_agent(sample_data_path)"
   ]
  }
 ],
 "metadata": {
  "kaggle": {
   "accelerator": "none",
   "dataSources": [
    {
     "sourceId": 97258,
     "sourceType": "competition"
    }
   ],
   "dockerImageVersionId": 31012,
   "isGpuEnabled": false,
   "isInternetEnabled": true,
   "language": "python",
   "sourceType": "notebook"
  },
  "kernelspec": {
   "display_name": "Python 3",
   "language": "python",
   "name": "python3"
  },
  "language_info": {
   "codemirror_mode": {
    "name": "ipython",
    "version": 3
   },
   "file_extension": ".py",
   "mimetype": "text/x-python",
   "name": "python",
   "nbconvert_exporter": "python",
   "pygments_lexer": "ipython3",
   "version": "3.11.11"
  },
  "papermill": {
   "default_parameters": {},
   "duration": 92.678135,
   "end_time": "2025-04-16T07:49:44.524339",
   "environment_variables": {},
   "exception": null,
   "input_path": "__notebook__.ipynb",
   "output_path": "__notebook__.ipynb",
   "parameters": {},
   "start_time": "2025-04-16T07:48:11.846204",
   "version": "2.6.0"
  }
 },
 "nbformat": 4,
 "nbformat_minor": 5
}
